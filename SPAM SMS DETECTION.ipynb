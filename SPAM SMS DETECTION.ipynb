{
 "cells": [
  {
   "cell_type": "code",
   "execution_count": 2,
   "id": "b230feec",
   "metadata": {},
   "outputs": [],
   "source": [
    "import numpy as np"
   ]
  },
  {
   "cell_type": "code",
   "execution_count": 3,
   "id": "32fedcbe",
   "metadata": {},
   "outputs": [],
   "source": [
    "import pandas as pd"
   ]
  },
  {
   "cell_type": "code",
   "execution_count": 6,
   "id": "4b29ac1f",
   "metadata": {},
   "outputs": [
    {
     "data": {
      "text/html": [
       "<div>\n",
       "<style scoped>\n",
       "    .dataframe tbody tr th:only-of-type {\n",
       "        vertical-align: middle;\n",
       "    }\n",
       "\n",
       "    .dataframe tbody tr th {\n",
       "        vertical-align: top;\n",
       "    }\n",
       "\n",
       "    .dataframe thead th {\n",
       "        text-align: right;\n",
       "    }\n",
       "</style>\n",
       "<table border=\"1\" class=\"dataframe\">\n",
       "  <thead>\n",
       "    <tr style=\"text-align: right;\">\n",
       "      <th></th>\n",
       "      <th>Unnamed: 0</th>\n",
       "      <th>labels</th>\n",
       "      <th>message</th>\n",
       "      <th>length</th>\n",
       "    </tr>\n",
       "  </thead>\n",
       "  <tbody>\n",
       "    <tr>\n",
       "      <th>0</th>\n",
       "      <td>605</td>\n",
       "      <td>ham</td>\n",
       "      <td>Subject: enron methanol ; meter # : 988291\\r\\n...</td>\n",
       "      <td>0</td>\n",
       "    </tr>\n",
       "    <tr>\n",
       "      <th>1</th>\n",
       "      <td>2349</td>\n",
       "      <td>ham</td>\n",
       "      <td>Subject: hpl nom for january 9 , 2001\\r\\n( see...</td>\n",
       "      <td>0</td>\n",
       "    </tr>\n",
       "    <tr>\n",
       "      <th>2</th>\n",
       "      <td>3624</td>\n",
       "      <td>ham</td>\n",
       "      <td>Subject: neon retreat\\r\\nho ho ho , we ' re ar...</td>\n",
       "      <td>0</td>\n",
       "    </tr>\n",
       "    <tr>\n",
       "      <th>3</th>\n",
       "      <td>4685</td>\n",
       "      <td>spam</td>\n",
       "      <td>Subject: photoshop , windows , office . cheap ...</td>\n",
       "      <td>1</td>\n",
       "    </tr>\n",
       "    <tr>\n",
       "      <th>4</th>\n",
       "      <td>2030</td>\n",
       "      <td>ham</td>\n",
       "      <td>Subject: re : indian springs\\r\\nthis deal is t...</td>\n",
       "      <td>0</td>\n",
       "    </tr>\n",
       "  </tbody>\n",
       "</table>\n",
       "</div>"
      ],
      "text/plain": [
       "   Unnamed: 0 labels                                            message  \\\n",
       "0         605    ham  Subject: enron methanol ; meter # : 988291\\r\\n...   \n",
       "1        2349    ham  Subject: hpl nom for january 9 , 2001\\r\\n( see...   \n",
       "2        3624    ham  Subject: neon retreat\\r\\nho ho ho , we ' re ar...   \n",
       "3        4685   spam  Subject: photoshop , windows , office . cheap ...   \n",
       "4        2030    ham  Subject: re : indian springs\\r\\nthis deal is t...   \n",
       "\n",
       "   length  \n",
       "0       0  \n",
       "1       0  \n",
       "2       0  \n",
       "3       1  \n",
       "4       0  "
      ]
     },
     "execution_count": 6,
     "metadata": {},
     "output_type": "execute_result"
    }
   ],
   "source": [
    "message = pd.read_csv(\"C:\\\\Users\\\\Mahesh\\\\Downloads\\\\archive (1) spam\\\\spam_ham_dataset.csv\")\n",
    "message.head()"
   ]
  },
  {
   "cell_type": "markdown",
   "id": "4adf725f",
   "metadata": {},
   "source": [
    "#  Exploratory Data Analysis"
   ]
  },
  {
   "cell_type": "code",
   "execution_count": 7,
   "id": "147349be",
   "metadata": {},
   "outputs": [
    {
     "data": {
      "text/html": [
       "<div>\n",
       "<style scoped>\n",
       "    .dataframe tbody tr th:only-of-type {\n",
       "        vertical-align: middle;\n",
       "    }\n",
       "\n",
       "    .dataframe tbody tr th {\n",
       "        vertical-align: top;\n",
       "    }\n",
       "\n",
       "    .dataframe thead th {\n",
       "        text-align: right;\n",
       "    }\n",
       "</style>\n",
       "<table border=\"1\" class=\"dataframe\">\n",
       "  <thead>\n",
       "    <tr style=\"text-align: right;\">\n",
       "      <th></th>\n",
       "      <th>Unnamed: 0</th>\n",
       "      <th>length</th>\n",
       "    </tr>\n",
       "  </thead>\n",
       "  <tbody>\n",
       "    <tr>\n",
       "      <th>count</th>\n",
       "      <td>5171.000000</td>\n",
       "      <td>5171.000000</td>\n",
       "    </tr>\n",
       "    <tr>\n",
       "      <th>mean</th>\n",
       "      <td>2585.000000</td>\n",
       "      <td>0.289886</td>\n",
       "    </tr>\n",
       "    <tr>\n",
       "      <th>std</th>\n",
       "      <td>1492.883452</td>\n",
       "      <td>0.453753</td>\n",
       "    </tr>\n",
       "    <tr>\n",
       "      <th>min</th>\n",
       "      <td>0.000000</td>\n",
       "      <td>0.000000</td>\n",
       "    </tr>\n",
       "    <tr>\n",
       "      <th>25%</th>\n",
       "      <td>1292.500000</td>\n",
       "      <td>0.000000</td>\n",
       "    </tr>\n",
       "    <tr>\n",
       "      <th>50%</th>\n",
       "      <td>2585.000000</td>\n",
       "      <td>0.000000</td>\n",
       "    </tr>\n",
       "    <tr>\n",
       "      <th>75%</th>\n",
       "      <td>3877.500000</td>\n",
       "      <td>1.000000</td>\n",
       "    </tr>\n",
       "    <tr>\n",
       "      <th>max</th>\n",
       "      <td>5170.000000</td>\n",
       "      <td>1.000000</td>\n",
       "    </tr>\n",
       "  </tbody>\n",
       "</table>\n",
       "</div>"
      ],
      "text/plain": [
       "        Unnamed: 0       length\n",
       "count  5171.000000  5171.000000\n",
       "mean   2585.000000     0.289886\n",
       "std    1492.883452     0.453753\n",
       "min       0.000000     0.000000\n",
       "25%    1292.500000     0.000000\n",
       "50%    2585.000000     0.000000\n",
       "75%    3877.500000     1.000000\n",
       "max    5170.000000     1.000000"
      ]
     },
     "execution_count": 7,
     "metadata": {},
     "output_type": "execute_result"
    }
   ],
   "source": [
    "message.describe()"
   ]
  },
  {
   "cell_type": "code",
   "execution_count": 8,
   "id": "a54c2a65",
   "metadata": {},
   "outputs": [
    {
     "data": {
      "text/html": [
       "<div>\n",
       "<style scoped>\n",
       "    .dataframe tbody tr th:only-of-type {\n",
       "        vertical-align: middle;\n",
       "    }\n",
       "\n",
       "    .dataframe tbody tr th {\n",
       "        vertical-align: top;\n",
       "    }\n",
       "\n",
       "    .dataframe thead tr th {\n",
       "        text-align: left;\n",
       "    }\n",
       "\n",
       "    .dataframe thead tr:last-of-type th {\n",
       "        text-align: right;\n",
       "    }\n",
       "</style>\n",
       "<table border=\"1\" class=\"dataframe\">\n",
       "  <thead>\n",
       "    <tr>\n",
       "      <th></th>\n",
       "      <th colspan=\"8\" halign=\"left\">Unnamed: 0</th>\n",
       "      <th colspan=\"8\" halign=\"left\">length</th>\n",
       "    </tr>\n",
       "    <tr>\n",
       "      <th></th>\n",
       "      <th>count</th>\n",
       "      <th>mean</th>\n",
       "      <th>std</th>\n",
       "      <th>min</th>\n",
       "      <th>25%</th>\n",
       "      <th>50%</th>\n",
       "      <th>75%</th>\n",
       "      <th>max</th>\n",
       "      <th>count</th>\n",
       "      <th>mean</th>\n",
       "      <th>std</th>\n",
       "      <th>min</th>\n",
       "      <th>25%</th>\n",
       "      <th>50%</th>\n",
       "      <th>75%</th>\n",
       "      <th>max</th>\n",
       "    </tr>\n",
       "    <tr>\n",
       "      <th>labels</th>\n",
       "      <th></th>\n",
       "      <th></th>\n",
       "      <th></th>\n",
       "      <th></th>\n",
       "      <th></th>\n",
       "      <th></th>\n",
       "      <th></th>\n",
       "      <th></th>\n",
       "      <th></th>\n",
       "      <th></th>\n",
       "      <th></th>\n",
       "      <th></th>\n",
       "      <th></th>\n",
       "      <th></th>\n",
       "      <th></th>\n",
       "      <th></th>\n",
       "    </tr>\n",
       "  </thead>\n",
       "  <tbody>\n",
       "    <tr>\n",
       "      <th>ham</th>\n",
       "      <td>3672.0</td>\n",
       "      <td>1835.5</td>\n",
       "      <td>1060.159422</td>\n",
       "      <td>0.0</td>\n",
       "      <td>917.75</td>\n",
       "      <td>1835.5</td>\n",
       "      <td>2753.25</td>\n",
       "      <td>3671.0</td>\n",
       "      <td>3672.0</td>\n",
       "      <td>0.0</td>\n",
       "      <td>0.0</td>\n",
       "      <td>0.0</td>\n",
       "      <td>0.0</td>\n",
       "      <td>0.0</td>\n",
       "      <td>0.0</td>\n",
       "      <td>0.0</td>\n",
       "    </tr>\n",
       "    <tr>\n",
       "      <th>spam</th>\n",
       "      <td>1499.0</td>\n",
       "      <td>4421.0</td>\n",
       "      <td>432.868340</td>\n",
       "      <td>3672.0</td>\n",
       "      <td>4046.50</td>\n",
       "      <td>4421.0</td>\n",
       "      <td>4795.50</td>\n",
       "      <td>5170.0</td>\n",
       "      <td>1499.0</td>\n",
       "      <td>1.0</td>\n",
       "      <td>0.0</td>\n",
       "      <td>1.0</td>\n",
       "      <td>1.0</td>\n",
       "      <td>1.0</td>\n",
       "      <td>1.0</td>\n",
       "      <td>1.0</td>\n",
       "    </tr>\n",
       "  </tbody>\n",
       "</table>\n",
       "</div>"
      ],
      "text/plain": [
       "       Unnamed: 0                                                         \\\n",
       "            count    mean          std     min      25%     50%      75%   \n",
       "labels                                                                     \n",
       "ham        3672.0  1835.5  1060.159422     0.0   917.75  1835.5  2753.25   \n",
       "spam       1499.0  4421.0   432.868340  3672.0  4046.50  4421.0  4795.50   \n",
       "\n",
       "                length                                     \n",
       "           max   count mean  std  min  25%  50%  75%  max  \n",
       "labels                                                     \n",
       "ham     3671.0  3672.0  0.0  0.0  0.0  0.0  0.0  0.0  0.0  \n",
       "spam    5170.0  1499.0  1.0  0.0  1.0  1.0  1.0  1.0  1.0  "
      ]
     },
     "execution_count": 8,
     "metadata": {},
     "output_type": "execute_result"
    }
   ],
   "source": [
    "message.groupby('labels').describe()"
   ]
  },
  {
   "cell_type": "code",
   "execution_count": 9,
   "id": "bb50ed84",
   "metadata": {},
   "outputs": [
    {
     "data": {
      "text/html": [
       "<div>\n",
       "<style scoped>\n",
       "    .dataframe tbody tr th:only-of-type {\n",
       "        vertical-align: middle;\n",
       "    }\n",
       "\n",
       "    .dataframe tbody tr th {\n",
       "        vertical-align: top;\n",
       "    }\n",
       "\n",
       "    .dataframe thead th {\n",
       "        text-align: right;\n",
       "    }\n",
       "</style>\n",
       "<table border=\"1\" class=\"dataframe\">\n",
       "  <thead>\n",
       "    <tr style=\"text-align: right;\">\n",
       "      <th></th>\n",
       "      <th>Unnamed: 0</th>\n",
       "      <th>labels</th>\n",
       "      <th>message</th>\n",
       "      <th>length</th>\n",
       "    </tr>\n",
       "  </thead>\n",
       "  <tbody>\n",
       "    <tr>\n",
       "      <th>0</th>\n",
       "      <td>605</td>\n",
       "      <td>ham</td>\n",
       "      <td>Subject: enron methanol ; meter # : 988291\\r\\n...</td>\n",
       "      <td>327</td>\n",
       "    </tr>\n",
       "    <tr>\n",
       "      <th>1</th>\n",
       "      <td>2349</td>\n",
       "      <td>ham</td>\n",
       "      <td>Subject: hpl nom for january 9 , 2001\\r\\n( see...</td>\n",
       "      <td>97</td>\n",
       "    </tr>\n",
       "    <tr>\n",
       "      <th>2</th>\n",
       "      <td>3624</td>\n",
       "      <td>ham</td>\n",
       "      <td>Subject: neon retreat\\r\\nho ho ho , we ' re ar...</td>\n",
       "      <td>2524</td>\n",
       "    </tr>\n",
       "    <tr>\n",
       "      <th>3</th>\n",
       "      <td>4685</td>\n",
       "      <td>spam</td>\n",
       "      <td>Subject: photoshop , windows , office . cheap ...</td>\n",
       "      <td>414</td>\n",
       "    </tr>\n",
       "    <tr>\n",
       "      <th>4</th>\n",
       "      <td>2030</td>\n",
       "      <td>ham</td>\n",
       "      <td>Subject: re : indian springs\\r\\nthis deal is t...</td>\n",
       "      <td>336</td>\n",
       "    </tr>\n",
       "  </tbody>\n",
       "</table>\n",
       "</div>"
      ],
      "text/plain": [
       "   Unnamed: 0 labels                                            message  \\\n",
       "0         605    ham  Subject: enron methanol ; meter # : 988291\\r\\n...   \n",
       "1        2349    ham  Subject: hpl nom for january 9 , 2001\\r\\n( see...   \n",
       "2        3624    ham  Subject: neon retreat\\r\\nho ho ho , we ' re ar...   \n",
       "3        4685   spam  Subject: photoshop , windows , office . cheap ...   \n",
       "4        2030    ham  Subject: re : indian springs\\r\\nthis deal is t...   \n",
       "\n",
       "   length  \n",
       "0     327  \n",
       "1      97  \n",
       "2    2524  \n",
       "3     414  \n",
       "4     336  "
      ]
     },
     "execution_count": 9,
     "metadata": {},
     "output_type": "execute_result"
    }
   ],
   "source": [
    "message['length']=message['message'].apply(len)\n",
    "message.head()"
   ]
  },
  {
   "cell_type": "code",
   "execution_count": 10,
   "id": "748eaa49",
   "metadata": {},
   "outputs": [
    {
     "data": {
      "text/html": [
       "<div>\n",
       "<style scoped>\n",
       "    .dataframe tbody tr th:only-of-type {\n",
       "        vertical-align: middle;\n",
       "    }\n",
       "\n",
       "    .dataframe tbody tr th {\n",
       "        vertical-align: top;\n",
       "    }\n",
       "\n",
       "    .dataframe thead th {\n",
       "        text-align: right;\n",
       "    }\n",
       "</style>\n",
       "<table border=\"1\" class=\"dataframe\">\n",
       "  <thead>\n",
       "    <tr style=\"text-align: right;\">\n",
       "      <th></th>\n",
       "      <th>Unnamed: 0</th>\n",
       "      <th>labels</th>\n",
       "      <th>message</th>\n",
       "      <th>length</th>\n",
       "    </tr>\n",
       "  </thead>\n",
       "  <tbody>\n",
       "    <tr>\n",
       "      <th>5166</th>\n",
       "      <td>1518</td>\n",
       "      <td>ham</td>\n",
       "      <td>Subject: put the 10 on the ft\\r\\nthe transport...</td>\n",
       "      <td>534</td>\n",
       "    </tr>\n",
       "    <tr>\n",
       "      <th>5167</th>\n",
       "      <td>404</td>\n",
       "      <td>ham</td>\n",
       "      <td>Subject: 3 / 4 / 2000 and following noms\\r\\nhp...</td>\n",
       "      <td>1114</td>\n",
       "    </tr>\n",
       "    <tr>\n",
       "      <th>5168</th>\n",
       "      <td>2933</td>\n",
       "      <td>ham</td>\n",
       "      <td>Subject: calpine daily gas nomination\\r\\n&gt;\\r\\n...</td>\n",
       "      <td>402</td>\n",
       "    </tr>\n",
       "    <tr>\n",
       "      <th>5169</th>\n",
       "      <td>1409</td>\n",
       "      <td>ham</td>\n",
       "      <td>Subject: industrial worksheets for august 2000...</td>\n",
       "      <td>573</td>\n",
       "    </tr>\n",
       "    <tr>\n",
       "      <th>5170</th>\n",
       "      <td>4807</td>\n",
       "      <td>spam</td>\n",
       "      <td>Subject: important online banking alert\\r\\ndea...</td>\n",
       "      <td>1114</td>\n",
       "    </tr>\n",
       "  </tbody>\n",
       "</table>\n",
       "</div>"
      ],
      "text/plain": [
       "      Unnamed: 0 labels                                            message  \\\n",
       "5166        1518    ham  Subject: put the 10 on the ft\\r\\nthe transport...   \n",
       "5167         404    ham  Subject: 3 / 4 / 2000 and following noms\\r\\nhp...   \n",
       "5168        2933    ham  Subject: calpine daily gas nomination\\r\\n>\\r\\n...   \n",
       "5169        1409    ham  Subject: industrial worksheets for august 2000...   \n",
       "5170        4807   spam  Subject: important online banking alert\\r\\ndea...   \n",
       "\n",
       "      length  \n",
       "5166     534  \n",
       "5167    1114  \n",
       "5168     402  \n",
       "5169     573  \n",
       "5170    1114  "
      ]
     },
     "execution_count": 10,
     "metadata": {},
     "output_type": "execute_result"
    }
   ],
   "source": [
    "message.tail()"
   ]
  },
  {
   "cell_type": "markdown",
   "id": "bec573fa",
   "metadata": {},
   "source": [
    "# Data Visualization"
   ]
  },
  {
   "cell_type": "code",
   "execution_count": 11,
   "id": "779b75a8",
   "metadata": {},
   "outputs": [],
   "source": [
    "import matplotlib.pyplot as plt\n",
    "import seaborn as sns\n",
    "%matplotlib inline"
   ]
  },
  {
   "cell_type": "code",
   "execution_count": 12,
   "id": "fb53eebf",
   "metadata": {},
   "outputs": [
    {
     "data": {
      "text/plain": [
       "<Axes: ylabel='Frequency'>"
      ]
     },
     "execution_count": 12,
     "metadata": {},
     "output_type": "execute_result"
    },
    {
     "data": {
      "image/png": "[encoded data removed]",
      "text/plain": [
       "<Figure size 640x480 with 1 Axes>"
      ]
     },
     "metadata": {},
     "output_type": "display_data"
    }
   ],
   "source": [
    "message['length'].plot(bins=30, kind='hist')"
   ]
  },
  {
   "cell_type": "code",
   "execution_count": 13,
   "id": "2cb6e181",
   "metadata": {},
   "outputs": [
    {
     "data": {
      "text/plain": [
       "count     5171.000000\n",
       "mean      1048.391994\n",
       "std       1528.513435\n",
       "min         11.000000\n",
       "25%        244.000000\n",
       "50%        540.000000\n",
       "75%       1237.000000\n",
       "max      32258.000000\n",
       "Name: length, dtype: float64"
      ]
     },
     "execution_count": 13,
     "metadata": {},
     "output_type": "execute_result"
    }
   ],
   "source": [
    "message.length.describe()"
   ]
  },
  {
   "cell_type": "code",
   "execution_count": 16,
   "id": "237d5ada",
   "metadata": {},
   "outputs": [
    {
     "data": {
      "text/plain": [
       "'Subject: fw : \" red , white and blue out \"\\r\\n- - - - - original message - - - - -\\r\\nfrom : carter , rhonda [ mailto : rcarter @ cooperinst . org ]\\r\\nsent : friday , september 14 , 2001 12 : 33 pm\\r\\nto : \\' al _ abbott @ compuserve . com \\' ; \\' mabner @ sprintmail . com \\' ;\\r\\n\\' aggiebob @ hotmail . com \\' ; \\' adamsck @ flash . net \\' ; \\' gadams @ promus . com \\' ;\\r\\n\\' pjadell @ yahoo . com \\' ; \\' bob @ cybersitebuilders . com \\' ;\\r\\n\\' worml 998 @ hotmail . com \\' ; \\' janie . beth @ prodigy . net \\' ; \\' gakin @ mccarthy . com \\' ;\\r\\n\\' vja @ flash . net \\' ; \\' locke . alder @ gte . net \\' ; \\' calexaol @ 7 - 11 . com \\' ;\\r\\n\\' erika @ publish . no . irs . gov \\' ; \\' ali @ buz . net \\' ; \\' brada @ ticnet . com \\' ;\\r\\n\\' svallen @ aol . com \\' ; \\' jand 30 @ aol . com \\' ; \\' allan @ stratsolgroup . com \\' ;\\r\\n\\' chuck _ anderson @ oxy . com \\' ; \\' mdqsga 96 @ aol . com \\' ;\\r\\n\\' brian _ anhalt @ bigfoot . com \\' ; \\' aranda @ nbstx . com \\' ; \\' aggiemom @ archer . cx \\' ;\\r\\n\\' jard @ nortelnetworks . com \\' ; \\' abarch @ airmail . net \\' ; \\' narguello @ yahoo . com \\' ;\\r\\n\\' jarmstrong @ tqtx . com \\' ; \\' mikie @ aggie . zzn . com \\' ; \\' ag 85 @ home . com \\' ;\\r\\n\\' kmarnold @ home . com \\' ; \\' hollya @ cyber - designs . com \\' ;\\r\\n\\' hughashburn @ netscape . net \\' ; \\' bob @ cybersitebuilders . com \\' ;\\r\\n\\' olinatkinson @ dellnet . com \\' ; \\' papaayres @ aol . com \\' ; \\' abackof 68 @ aol . com \\' ;\\r\\n\\' badgett @ ti . com \\' ; \\' kbailie @ nortel . com \\' ; \\' wjbaird @ mapsco . com \\' ;\\r\\n\\' jbaker @ ecomtrading . com \\' ; \\' tim . banigan @ nortelnetworks . com \\' ;\\r\\n\\' atbarlow @ mail . smu . edu \\' ; \\' arnonvic @ aol . com \\' ;\\r\\n\\' john _ laurabarr @ email . msn . com \\' ; \\' jillmbarrow @ hotmail . com \\' ;\\r\\n\\' b - barton @ ti . com \\' ; \\' tbates @ why . net \\' ; \\' normabautista @ worldnet . att . net \\' ;\\r\\n\\' baweja @ aol . com \\' ; \\' gbaxley @ nt . com \\' ; \\' dabayers @ juno . com \\' ;\\r\\n\\' jbeard @ halff . com \\' ; \\' bearden . e @ grainger . com \\' ; \\' tbeaslel @ tuelectric . com \\' ;\\r\\n\\' kayebeatty @ aol . com \\' ; \\' triciabeaudreau @ hotmail . com \\' ;\\r\\n\\' abeckley @ executrain - dal . com \\' ; \\' scott . r . bellamy @ marshmc . com \\' ;\\r\\n\\' chiaggie @ aol . com \\' ; \\' dbenefield @ merit . com \\' ; \\' bryan @ dalmac . com \\' ;\\r\\n\\' bennie @ flash . net \\' ; \\' bergerd @ earthlink . net \\' ; \\' ted . e . bernard @ ac . com \\' ;\\r\\n\\' sberry @ nortel . com \\' ; \\' jody . bingham @ ps . net \\' ; \\' bobird @ att . com \\' ;\\r\\n\\' keithbird @ yahoo . com \\' ; \\' mbish @ nortel . com \\' ; \\' dawn . bitar @ ps . net \\' ;\\r\\n\\' bittners @ swbell . net \\' ; \\' akbjerke @ postoffice . swbell . net \\' ;\\r\\n\\' michael . blahitka @ intervoice - brite . com \\' ; \\' blairsl @ juno . com \\' ;\\r\\n\\' bnlblake @ flash . net \\' ; \\' gbock 2 @ excite . com \\' ; \\' bobb 761 @ worldnet . att . net \\' ;\\r\\n\\' jbond @ genuity . com \\' ; \\' bonsai 2 @ flash . net \\' ; \\' bonerhk @ earthlink . net \\' ;\\r\\n\\' warrenlb @ aol . com \\' ; \\' dbb @ sa - inc . com \\' ; \\' lynnbottlinger @ hotmail . com \\' ;\\r\\n\\' dkboughton @ home . com \\' ; \\' mbouma @ pgbpike . com \\' ; \\' bowden _ rap @ msn . com \\' ;\\r\\n\\' jfbowen @ swbell . net \\' ; \\' cbowersl @ airmail . net \\' ; \\' scott . bowers @ eds . com \\' ;\\r\\n\\' mbag 92 @ aol . com \\' ; \\' lorna @ . com \\' ;\\r\\n\\' sheryl . bradley @ eds . com \\' ; \\' andybradshaw @ home . com \\' ; \\' bramlett @ home . com \\' ;\\r\\n\\' mwbranch @ aol . com \\' ; \\' tbrandish @ bigfoot . com \\' ; \\' kbrannon @ flash . net \\' ;\\r\\n\\' bebe - tx @ mindspring . com \\' ; \\' devere @ flash . net \\' ; \\' lgbrennan @ earthlink . net \\' ;\\r\\n\\' nicole @ dalmac . com \\' ; \\' tmbreeze @ gte . net \\' ; \\' gwb 2 @ flash . net \\' ;\\r\\n\\' john @ smithsummers . com \\' ; \\' bmbrinkl @ aol . com \\' ; \\' nateb 7899 @ aol . com \\' ;\\r\\n\\' melissabrooks @ mindspring . com \\' ; \\' rhbrooks @ vartec . net \\' ;\\r\\n\\' bbrooks @ sbair . com \\' ; \\' dbrosey @ airmail . net \\' ; \\' bbrown @ micron . com \\' ;\\r\\n\\' klbo 2 @ cs . com \\' ; \\' erich . browne @ central . sun . com \\' ; \\' deniseb @ ticnet . com \\' ;\\r\\n\\' jbrozovi @ usa . alcatel . com \\' ; \\' bruckm @ airmail . net \\' ;\\r\\n\\' bbruton @ scan - direct . com \\' ; \\' david . a . bryant @ bigfoot . com \\' ;\\r\\n\\' ccb @ nortelnetworks . com \\' ; \\' jnkbull @ netzero . com \\' ; \\' burchta 330 @ aol . com \\' ;\\r\\n\\' drburdenjr @ aol . com \\' ; \\' jburnett @ foxsports . net \\' ; \\' haleburr @ aol . com \\' ;\\r\\n\\' burrow @ nortel . ca \\' ; \\' rbl 419 @ aol . com \\' ; \\' mikebusch @ mail . com \\' ;\\r\\n\\' cbyrum @ goodmanfamily . com \\' ; \\' calkfamf @ home . com \\' ;\\r\\n\\' kcameron @ yahoo - inc . com \\' ; \\' jsmiley @ pisd . edu \\' ; \\' jajasoup @ aol . com \\' ;\\r\\n\\' laurie . canning @ ericsson . com \\' ; \\' jjcantwell @ worldnet . att . net \\' ;\\r\\n\\' djcarr @ texas . net \\' ; \\' richardjcarroll @ yahoo . com \\' ; \\' drviv @ yahoo . com \\' ;\\r\\n\\' rob @ startech . org \\' ; \\' tcarson 98 @ yahoo . com \\' ; \\' brandacarter @ microlabs . com \\' ;\\r\\n\\' lee _ carter @ seha . com \\' ; \\' dcarter 768 @ aol . com \\' ; carter , rhonda ;\\r\\n\\' todd . carter @ fnc . fujitsu . com \\' ; \\' cwc 68 @ swbell . net \\' ; \\' jcash @ firstam . com \\' ;\\r\\n\\' tcastellanos @ usa . net \\' ; \\' wcaudi @ concentric . net \\' ;\\r\\n\\' cavanaug @ gustafson . com \\' ; \\' cschamberlin @ mindspring . com \\' ;\\r\\n\\' ebeth @ airmail . net \\' ; \\' cookie _ chambers @ pagenet . com \\' ;\\r\\n\\' jchamp 5626 @ aol . com \\' ; \\' sherriel @ flash . net \\' ; \\' smchamp @ dhc . net \\' ;\\r\\n\\' svchandl @ garlandisd . net \\' ; \\' fectac @ aol . com \\' ; \\' chris . chastain @ ey . com \\' ;\\r\\n\\' ccchatham @ aol . com \\' ; \\' kevin . chilcoat @ fritolay . com \\' ; \\' mattc @ dallas . net \\' ;\\r\\n\\' jchoc @ msn . com \\' ; \\' shannon @ thechristianfamily . com \\' ;\\r\\n\\' christian @ medicine . tamu . edu \\' ; \\' jcipolla @ hotmail . com \\' ; \\' dclark @ dhc . net \\' ;\\r\\n\\' sclark @ dhc . net \\' ; \\' mclary @ elux . com \\' ; \\' brad @ bigl 2 sports . com \\' ;\\r\\n\\' clemmons @ home . com \\' ; \\' beth 2047 @ aol . com \\' ; \\' acoble @ cisco . com \\' ;\\r\\n\\' jjcoburn @ aol . com \\' ; \\' dbclaw @ hotmail . com \\' ; \\' matt _ cole @ yahoo . com \\' ;\\r\\n\\' cac 75442 @ aol . com \\' ; \\' jcoll 75442 @ aol . com \\' ; \\' jorubycol @ aol . com \\' ;\\r\\n\\' collins 587 @ hotmail . com \\' ; \\' condoaggie @ aol . com \\' ; \\' swcbox @ aol . com \\' ;\\r\\n\\' crcandmac @ aol . com \\' ; \\' crcook @ gte . net \\' ; \\' martha _ cook @ publicis - usa . com \\' ;\\r\\n\\' mustrdsd @ flash . net \\' ; \\' acooper 401 @ aol . com \\' ; \\' jcooper 95 @ yahoo . com \\' ;\\r\\n\\' karen . m . cope @ dal . frb . org \\' ; \\' kellyandamy @ sprintmail . com \\' ;\\r\\n\\' vc 4445 @ earthlink . com \\' ; \\' brendyc @ aol . com \\' ; \\' kdcornell @ compuserve . com \\' ;\\r\\n\\' sc 93 @ hotmail . com \\' ; \\' bcorrell @ aol . com \\' ; \\' mcortino @ swbell . net \\' ;\\r\\n\\' cowan 95 @ aol . com \\' ; \\' coxl 997 @ yahoo . com \\' ; \\' monarch @ usa . net \\' ;\\r\\n\\' jason _ cox @ hotmail . com \\' ; \\' lacoyne @ flashcom . net \\' ; \\' garycl 2345 @ aol . com \\' ;\\r\\n\\' julesag 95 @ flash . net \\' ; \\' crawfordsl @ cdm . com \\' ; \\' phantom 495 @ aol . com \\' ;\\r\\n\\' ccriswel @ pisd . edu \\' ; \\' sec @ inetinc . com \\' ; \\' holly . a . cromack @ ac . com \\' ;\\r\\n\\' kcudlipp @ arimail . net \\' ; \\' mrculp @ home . com \\' ; \\' cathy . cupps @ eds . com \\' ;\\r\\n\\' curranc @ diamtech . com \\' ; \\' andyc @ gwmail . plano . gov \\' ;\\r\\n\\' lindsay _ daigle @ yahoo . com \\' ; \\' ag 93 whoop @ hotmail . com \\' ;\\r\\n\\' dtddtd 444 @ aol . com \\' ; \\' edaniel @ flash . net \\' ; \\' tamidarby @ home . com \\' ;\\r\\n\\' cagladan @ usa . net \\' ; \\' smitadas @ ix . netcom . com \\' ; \\' cgwd 94 @ aol . com \\' ;\\r\\n\\' kay . daugherty 3 @ gte . net \\' ; \\' bob _ daughrity @ cabp . com \\' ;\\r\\n\\' aggiel 984 @ juno . com \\' ; \\' jdd . rad @ gte . net \\' ; \\' riverl @ flash . net \\' ;\\r\\n\\' rogercdavis @ home . com \\' ; \\' stefaniedavis @ yahoo . com \\' ; \\' bamadavis @ aol . com \\' ;\\r\\n\\' dawsonsix @ aol . com \\' ; \\' heather @ icsi . net \\' ; \\' stephanie _ s _ day @ compusa . com \\' ;\\r\\n\\' cdelarios @ home . com \\' ; \\' cdeangulo @ msn . com \\' ; \\' ldeardurff @ mckinneyisd . net \\' ;\\r\\n\\' mdeardurff 62 @ msn . com \\' ; \\' victor . de . hoyos @ fritolay . com \\' ;\\r\\n\\' mrichmnd @ ix . netcom . com \\' ; \\' kelly 95 ag @ aol . com \\' ; \\' ivan 53 @ aol . com \\' ;\\r\\n\\' bdempsey @ dnaent . com \\' ; \\' macdeth @ swbell . net \\' ; \\' allandl @ airmail . net \\' ;\\r\\n\\' deweesw @ ttc . com \\' ; \\' tgd @ ffhm . com \\' ; \\' to _ ronda @ airmail . net \\' ;\\r\\n\\' jmditrapani @ nextlink . com \\' ; \\' ledlugos @ aol . com \\' ; \\' dlugosch @ home . com \\' ;\\r\\n\\' melvausa @ netscape . net \\' ; \\' aol 93775 @ dlemail . itg . ti . com \\' ;\\r\\n\\' chas 41 @ airmail . net \\' ; \\' mdorsett @ uni - bell . org \\' ;\\r\\n\\' m - mdouglas @ worldnet . att . net \\' ; \\' dovers @ sprintmail . com \\' ;\\r\\n\\' lorip @ rsn . hp . com \\' ; \\' michelle . drawert @ gte . net \\' ; \\' tisdalel @ flash . net \\' ;\\r\\n\\' sdrotma @ pisd . edu \\' ; \\' ndsouza @ unt . edu \\' ; \\' gary . dubois @ pizzahut . com \\' ;\\r\\n\\' madudko @ aol . com \\' ; \\' fduewall @ wmcobb . com \\' ; \\' jduffy @ cisco . com \\' ;\\r\\n\\' dduffy @ mis - world . com \\' ; \\' blakey @ flash . net \\' ; \\' greg _ dupree @ bigfoot . com \\' ;\\r\\n\\' michael . duran @ ps . net \\' ; \\' g - durham @ ti . coin \\' ; \\' crma @ flash . net \\' ;\\r\\n\\' travisdye @ home . com \\' ; \\' earnshaw @ flash . net \\' ; \\' mechols @ fastlane . net \\' ;\\r\\n\\' jason . eggl @ indsys . ge . com \\' ; \\' reicher @ tell . net \\' ; \\' eiland @ ti . com \\' ;\\r\\n\\' tome @ gwmail . plano . gov \\' ; \\' s _ elliott @ hotmail . com \\' ; \\' lellis @ ch 2 m . com \\' ;\\r\\n\\' tedcarles @ earthlink . net \\' ; \\' stephen . elmendorf @ teradyne . com \\' ;\\r\\n\\' bembrey @ ccgmail . com \\' ; \\' rempey @ waymark . net \\' ; \\' mengels @ airmail . net \\' ;\\r\\n\\' mentrop @ yahoo . com \\' ; \\' jepps @ intecom . com \\' ; \\' donerb @ home . com \\' ;\\r\\n\\' lucy _ vsi @ ix . netcom . com \\' ; \\' mike @ estesfinancial . com \\' ; \\' setch @ onebox . com \\' ;\\r\\n\\' kathyeudy @ yahoo . com \\' ; \\' pevers @ home . com \\' ; \\' kewing @ airmail . net \\' ;\\r\\n\\' deon . b . fair @ ac . com \\' ; \\' lisalynn 98 @ hotmail . com \\' ; \\' drjuiceplus @ home . com \\' ;\\r\\n\\' sfaseler @ lg . com \\' ; \\' rfeldman @ ascend . com \\' ; \\' j . felkner @ worldnet . att . net \\' ;\\r\\n\\' jferguso @ mony . com \\' ; \\' roger . ferguson @ fluor . com \\' ; \\' jtferrarol @ home . com \\' ;\\r\\n\\' tfiedler @ flash . net \\' ; \\' ififfick @ hharchitects . com \\' ;\\r\\n\\' davidfinley 82 @ yahoo . com \\' ; \\' duke . fisher @ wcom . com \\' ;\\r\\n\\' j _ fishero @ yahoo . com \\' ; \\' dfitzgerald @ mesquiteisd . org \\' ; \\' lpfitz @ wt . net \\' ;\\r\\n\\' 102372 . 2423 @ compuserve . com \\' ; \\' fleck @ concentric . net \\' ;\\r\\n\\' jannet @ dallas . net \\' ; \\' fleitman @ msn . com \\' ; \\' samf @ dallas . net \\' ;\\r\\n\\' rjflorio @ worldnet . att . net \\' ; \\' gulfview @ gateway . net \\' ;\\r\\n\\' d - forbes @ rtis . ray . com \\' ; \\' bgfort @ earthlink . net \\' ; \\' clfoster @ airmail . net \\' ;\\r\\n\\' r . foster @ prelude . com \\' ; \\' gfoyt @ hdrinc . com \\' ; \\' sfrancis @ everdream . com \\' ;\\r\\n\\' halgodal @ flash . net \\' ; \\' hedgehogracing @ msn . com \\' ;\\r\\n\\' steve . french @ aggies . org \\' ; \\' jfreytag @ airmail . net \\' ; \\' blakef @ msn . com \\' ;\\r\\n\\' michael . froman @ octel . com \\' ; \\' afruhling @ metasolv . com \\' ;\\r\\n\\' fuentes @ noval . net \\' ; \\' hiroko @ rsn . hp . com \\' ; \\' fulkfamily @ home . com \\' ;\\r\\n\\' ron . fuqua @ usa . alcatel . com \\' ; \\' debra . galarde @ eds . com \\' ;\\r\\n\\' txhoss @ ix . netcom . com \\' ; \\' jared . galloway @ fnc . fujitsu . com \\' ;\\r\\n\\' aubree . garrett @ fnc . fujitsu . com \\' ; \\' toniandmikeg @ home . com \\' ;\\r\\n\\' cwgary @ ont . com \\' ; \\' 2 ags @ flash . net \\' ; \\' sgaster @ kpmg . com \\' ;\\r\\n\\' zgoner @ airmail . net \\' ; \\' dgedeon @ vectrix . com \\' ;\\r\\n\\' tara . gedeon @ brannforbes . com \\' ; \\' jcjones @ rsn . hp . com \\' ;\\r\\n\\' tageo @ mindspring . com \\' ; \\' tgeorge @ flash . net \\' ; \\' teresagill @ email . com \\' ;\\r\\n\\' rglover @ halff . com \\' ; \\' dfglynnl @ msn . com \\' ; \\' mgolaboff @ eqrworld . com \\' ;\\r\\n\\' judie _ good @ yahoo . com \\' ; \\' gorski @ aggies . com \\' ; \\' algough @ yahoo . com \\' ;\\r\\n\\' neilgould @ usa . net \\' ; \\' sallsgraham @ hotmail . com \\' ; \\' pgranier @ portal . com \\' ;\\r\\n\\' begrant @ flash . net \\' ; \\' rgrantham @ worldnet . att . net \\' ; \\' tgravett @ wans . net \\' ;\\r\\n\\' chris _ greer @ hp . com \\' ; \\' hgreer @ alldata . net \\' ; \\' chrisg @ micrografx . com \\' ;\\r\\n\\' donindfw @ ix . netcom . com \\' ; \\' dan @ productcentre . com \\' ;\\r\\n\\' jgroce @ lasercomm - inc . com \\' ; \\' juggernaut @ connect . net \\' ;\\r\\n\\' katie _ gruebel @ hotmail . com \\' ; \\' amynurse @ hotmail . com \\' ; \\' bag 2 @ airmail . net \\' ;\\r\\n\\' kenneth _ guest @ hp . com \\' ; \\' jgump @ mail . arco . com \\' ; \\' wylie . gunter @ eds . com \\' ;\\r\\n\\' tim . gutschlag @ fnc . fujitsu . com \\' ; \\' guzmans @ home . com \\' ;\\r\\n\\' cherihaby @ home . com \\' ; \\' julie _ halloran @ yahoo . com \\' ;\\r\\n\\' chaltom @ conedrive . textron . com \\' ; \\' hamelb 21 @ ont . com \\' ;\\r\\n\\' talana 99 @ hotmail . com \\' ; \\' greg . hanks @ hanksbrokerage . com \\' ;\\r\\n\\' rharbin @ aris . com \\' ; \\' carrie . l . hardy @ fritolay . com \\' ;\\r\\n\\' scott _ harkins @ msn . com \\' ; \\' jharper @ flash . net \\' ;\\r\\n\\' jharrington @ sagetelecom . net \\' ; \\' roynteri @ mail . com \\' ;\\r\\n\\' steveharrod @ msn . com \\' ; \\' hartfield @ ti . com \\' ;\\r\\n\\' terry . k . hartzog @ us . arthurandersen . com \\' ; \\' kharvey @ pcrrent . com \\' ;\\r\\n\\' marji . j . harvey @ mail . sprint . com \\' ; \\' b - haskettl @ ti . com \\' ;\\r\\n\\' kelly _ hayes @ harwoodmarketing . com \\' ; \\' mhaye @ amkor . com \\' ;\\r\\n\\' alanh @ alliancearch . com \\' ; \\' mheath @ nextlink . com \\' ; \\' mheffner @ home . com \\' ;\\r\\n\\' jets @ ti . com \\' ; \\' glenn @ hc - cpa . com \\' ; \\' toddmel @ texoma . net \\' ;\\r\\n\\' kimberly . henderson @ ey . com \\' ; \\' dah 85 @ mindspring . com \\' ;\\r\\n\\' shenley @ flash . net \\' ; \\' rahennessy @ earthlink . com \\' ; \\' jherblin @ onramp . net \\' ;\\r\\n\\' carynlynn @ msn . com \\' ; \\' nascar @ mikeh . net \\' ; \\' travis @ herringangus . com \\' ;\\r\\n\\' anandted @ msn . com \\' ; \\' dherron @ pisd . edu \\' ; \\' mitchherzog @ yahoo . com \\' ;\\r\\n\\' sc _ hester @ hotmail . com \\' ; \\' jheye @ psp . com \\' ; \\' mhickox @ fiskrob . com \\' ;\\r\\n\\' lori @ efficient . com \\' ; \\' phinojos @ micro . honeywell . com \\' ;\\r\\n\\' d . hirt @ dialogic . com \\' ; \\' danetami @ airmail . net \\' ; \\' randyhobert @ msn . com \\' ;\\r\\n\\' blakekimhodge @ yahoo . com \\' ; \\' will @ . com \\' ;\\r\\n\\' choldrid @ airmail . net \\' ; \\' jnh @ ti . com \\' ; \\' tholman @ gte . net \\' ;\\r\\n\\' sholmeso 0 @ msn . com \\' ; \\' jholstea @ jpi . com \\' ; \\' sholton @ ticnet . com \\' ;\\r\\n\\' holyoak @ flash . net \\' ; \\' phorton @ usa . alcatel . com \\' ; \\' scott @ horton . net \\' ;\\r\\n\\' thowes @ mail . arco . com \\' ; \\' chad @ tice . com \\' ; \\' hugghins @ gte . net \\' ;\\r\\n\\' jhummel @ memc . com \\' ; \\' markhunt @ bigfoot . com \\' ; \\' thehurd @ hex . net \\' ;\\r\\n\\' b - hutcheson @ ti . com \\' ; \\' j . r . iacoponelli @ mciworld . com \\' ;\\r\\n\\' billirish @ hotmail . com \\' ; \\' czjkjj @ msn . com \\' ;\\r\\n\\' pat . jackson @ fnc . fujitsu . com \\' ; \\' sjackson @ opsos . net \\' ; \\' ararat @ flash . net \\' ;\\r\\n\\' stevejames @ home . com \\' ; \\' chellejanow @ hotmail . com \\' ;\\r\\n\\' asmith _ scuba @ yahoo . com \\' ; \\' bjehu @ yahoo . com \\' ;\\r\\n\\' ashlea _ jenkins @ hotmail . com \\' ; \\' cjenson @ flash . net \\' ; \\' mljideas @ home . com \\' ;\\r\\n\\' slj @ waymark . net \\' ; \\' rjolly _ 1 @ yahoo . com \\' ; \\' bsjones 50 @ hotmail . com \\' ;\\r\\n\\' craig - charlottejones @ worldnet . att . net \\' ; \\' danny @ lanyx . com \\' ;\\r\\n\\' mattjones @ ccgmail . com \\' ; \\' wjones @ clearsail . net \\' ;\\r\\n\\' sjordan 3 @ compuserve . com \\' ; \\' ryanjust @ hotmail . com \\' ;\\r\\n\\' chip @ cscfinancial . com \\' ; \\' lkcbsl @ home . com \\' ; \\' makall 5 @ flash . net \\' ;\\r\\n\\' twk @ msg . ti . com \\' ; \\' mkaplan @ augustmail . com \\' ; \\' ckarlik @ swbell . net \\' ;\\r\\n\\' shafia 30 @ hotmail . com \\' ; \\' mlkawas @ hotmail . com \\' ; \\' chipk @ nortel . com \\' ;\\r\\n\\' markkelley _ wurzburg @ yahoo . com \\' ; \\' mkelly 2575 @ juno . com \\' ;\\r\\n\\' danken 8765 @ home . com \\' ; \\' wolfcamp @ hotmail . com \\' ; \\' mjkereluk @ msn . com \\' ;\\r\\n\\' ckerley @ apclink . com \\' ; \\' lkerr @ evl . net \\' ; \\' r . kessel @ ssss . com \\' ;\\r\\n\\' dkessler @ waymark . net \\' ; \\' mkessner @ hotmail . com \\' ; \\' troykey @ peoplepc . com \\' ;\\r\\n\\' akilpatrick @ kurion . com \\' ; \\' kings 2 @ flash . net \\' ; \\' kingsr @ home . com \\' ;\\r\\n\\' jkingston @ ti . com \\' ; \\' skirchner @ worldnet . att . net \\' ;\\r\\n\\' chuck @ digitalpilot . com \\' ; \\' michael . kleppe @ ericsson . com \\' ;\\r\\n\\' jklouda @ flash . net \\' ; \\' dennis _ kniery @ hp . com \\' ; \\' sschulz @ mail . smu . edu \\' ;\\r\\n\\' lakohler @ raytheon . com \\' ; \\' james . kornegay @ eds . com \\' ; \\' knrkrause @ aol . com \\' ;\\r\\n\\' kckuddes @ altavista . com \\' ; \\' sakula @ flash . net \\' ; \\' skutchin @ leaelliott . com \\' ;\\r\\n\\' bladdusaw @ ti . com \\' ; \\' 103745 . 342 @ compuserve . com \\' ; \\' mellake @ yahoo . com \\' ;\\r\\n\\' paul . lake @ ps . net \\' ; \\' slakie @ texas . net \\' ; \\' jplane @ gte . net \\' ;\\r\\n\\' mlangloys @ aol . com \\' ; \\' rlanicek @ home . com \\' ;\\r\\n\\' barrett . lankford @ painewebber . com \\' ; \\' mlara @ pisd . edu \\' ; \\' gsl @ msn . com \\' ;\\r\\n\\' mikepl @ bnr . ca \\' ; \\' klavergne @ earthling . net \\' ;\\r\\n\\' winner @ sportsstandings . com \\' ; \\' mlecrone @ aol . com \\' ; \\' banglee @ ti . com \\' ;\\r\\n\\' coyote 97 @ swbell . net \\' ; \\' robertlee @ poboxes . com \\' ;\\r\\n\\' j . lemmons @ worldnet . att . net \\' ; \\' lesliel @ airmail . net \\' ; \\' lerich @ flash . net \\' ;\\r\\n\\' rlessmann @ home . com \\' ; \\' elethe @ gte . net \\' ; \\' mikelew @ nortelnetworks . com \\' ;\\r\\n\\' lewisr 691 @ home . com \\' ; \\' laliefer @ aol . com \\' ; \\' hkl 5320 @ dcccd . edu \\' ;\\r\\n\\' gmlz @ msg . ti . com \\' ; \\' blightsey @ systemdesk . com \\' ;\\r\\n\\' 74464 . 2612 @ compuserve . com \\' ; \\' jlind 2402 @ aol . com \\' ;\\r\\n\\' dlindstrom @ icidallas . com \\' ; \\' glinebaugh @ prodigy . net \\' ;\\r\\n\\' eflinhoff @ aol . com \\' ; \\' the . lisewskys @ prodigy . net \\' ;\\r\\n\\' mlish @ kennedywilson . com \\' ; \\' heidident @ aol . com \\' ; \\' katie 96 ag @ yahoo . com \\' ;\\r\\n\\' john _ london @ acs - inc . com \\' ; \\' ro 219 @ aol . com \\' ; \\' balott @ aol . com \\' ;\\r\\n\\' wadel @ swbell . net \\' ; \\' tglovell @ onramp . net \\' ; \\' tlovell @ ticnet . com \\' ;\\r\\n\\' rmlowry 4 @ yahoo . com \\' ; \\' mploya @ ti . com \\' ; \\' aggie 97 @ hotmail . com \\' ;\\r\\n\\' jlugo @ rhaaia . com \\' ; \\' klukshin @ kpmg . com \\' ; \\' dluna @ raltron . com \\' ;\\r\\n\\' ped @ nortel . ca \\' ; \\' clyons @ metasolv . com \\' ; \\' paulandkarin @ msn . com \\' ;\\r\\n\\' rlyttons @ aol . com \\' ; \\' emaas 94 @ yahoo . com \\' ; \\' spam . bait @ worldnet . att . net \\' ;\\r\\n\\' neardal @ airmail . net \\' ; \\' mmachesney @ aol . com \\' ; \\' netaces @ airmail . net \\' ;\\r\\n\\' richard . maddox @ mci . com \\' ; \\' betty . magee @ homesbybetty . com \\' ;\\r\\n\\' jmagrude @ jpi . com \\' ; \\' pxm @ msg . ti . com \\' ; \\' tracemajor @ hotmail . com \\' ;\\r\\n\\' mmalakoff @ aol . com \\' ; \\' judy . j . manning @ fritolay . com \\' ;\\r\\n\\' norris @ mantooth . com \\' ; \\' marchand _ darryl @ msn . com \\' ; \\' nrm 2000 @ hotmail . com \\' ;\\r\\n\\' mike . marino @ usoncology . com \\' ; \\' branonmarsh @ hotmail . com \\' ;\\r\\n\\' rmartin @ coserv . net \\' ; \\' dmason @ highpointtravel . com \\' ; \\' seanab @ gte . net \\' ;\\r\\n\\' debm 394 @ aol . com \\' ; \\' mathews - amy @ yahoo . com \\' ; \\' ags 84 @ aol . com \\' ;\\r\\n\\' equestlnm @ excite . com \\' ; \\' mjmattson @ home . com \\' ; \\' bmatulal @ airmail . net \\' ;\\r\\n\\' ilvjesus @ flash . net \\' ; \\' kmay 4001 @ aol . com \\' ; \\' cmayber @ pisd . edu \\' ;\\r\\n\\' jasonmayes @ earthlink . net \\' ; \\' jimbobq 88 @ aol . com \\' ; \\' mccaff @ anet - dfw . com \\' ;\\r\\n\\' bmccainl 62 @ aol . com \\' ; \\' almac @ wans . net \\' ; \\' mike . mcdonald @ ey . com \\' ;\\r\\n\\' dhm @ mcdowelllabel . com \\' ; \\' tmcevoy @ wordware . com \\' ;\\r\\n\\' trisheeey @ hotmail . com \\' ; \\' bmcgrego @ metrogroup . com \\' ; \\' rmckee @ ti . com \\' ;\\r\\n\\' jim _ mcmahan @ ctxmort . com \\' ; \\' bmcmillan @ motion - dynamics . com \\' ;\\r\\n\\' pmeggs @ aol . com \\' ; \\' mendezn @ nortelnetworks . com \\' ; \\' jenabug @ flash . net \\' ;\\r\\n\\' m _ mentzer @ hotmail . com \\' ; \\' sandymergen @ hotmail . com \\' ;\\r\\n\\' smerrill @ flash . net \\' ; \\' tiffany _ merrill @ yahoo . com \\' ;\\r\\n\\' jmersiovsky @ metasolv . com \\' ; \\' emetting @ hntb . com \\' ;\\r\\n\\' sue _ middleton @ juno . com \\' ; \\' jbm 326 @ aol . com \\' ; \\' barbmiller @ qualtx . com \\' ;\\r\\n\\' michael _ c . _ miller @ ac . com \\' ; \\' miller @ dallas . net \\' ;\\r\\n\\' hdjemills @ earthlink . net \\' ; \\' jmills @ dallas . net \\' ;\\r\\n\\' dminaldi @ contactdallas . com \\' ; \\' rminney @ entercon . com \\' ; \\' mlm @ ti . com \\' ;\\r\\n\\' jenmizar @ yahoo . com \\' ; \\' moonaggie @ cs . com \\' ; \\' jason @ aggies . org \\' ;\\r\\n\\' pipkins @ gateway . net \\' ; \\' danny . morris @ mciworld . com \\' ;\\r\\n\\' jcipolla @ hotmail . com \\' ; \\' cmorse @ waymark . net \\' ; \\' aggietx @ swbell . net \\' ;\\r\\n\\' m _ muecke @ hotmail . com \\' ; \\' jeff . mundt @ wcom . com \\' ; \\' amurphy 96 @ hotmail . com \\' ;\\r\\n\\' jmurphy 4 @ hotmail . com \\' ; \\' dannym @ churchrealty . com \\' ; \\' cmyers @ mycon . com \\' ;\\r\\n\\' greg @ lsil . com \\' ; \\' jnlzaza @ earthlink . net \\' ; \\' erinsneedham @ hotmail . com \\' ;\\r\\n\\' tpneeley @ worldnet . att . net \\' ; \\' jnelson @ source . com \\' ;\\r\\n\\' jnerwich @ mindspring . com \\' ; \\' goonet @ hotmail . com \\' ; \\' rpnew @ aol . com \\' ;\\r\\n\\' jeff . newton @ fritolay . com \\' ; \\' chrisgnichols @ yahoo . com \\' ;\\r\\n\\' r . niedenfuehr @ worldnet . att . net \\' ; \\' nielsonc @ sprynet . com \\' ;\\r\\n\\' rniesen @ ti . com \\' ; \\' jnobll @ jcpenney . com \\' ; \\' timcathy @ flash . net \\' ;\\r\\n\\' merkicpa @ gte . net \\' ; \\' rnorris @ joefunkconstr . com \\' ; \\' aggiel @ airmail . net \\' ;\\r\\n\\' cnorton @ brierley . com \\' ; \\' janicen @ architeriors . com \\' ;\\r\\n\\' nnowik @ mhagroup . com \\' ; \\' toconnor @ varo . com \\' ; \\' melody . oliver @ eds . com \\' ;\\r\\n\\' s - oliverl @ ti . com \\' ; \\' adrienneolsen @ hotmail . com \\' ; \\' roneal @ ins - inc . com \\' ;\\r\\n\\' tfonofrio @ aol . com \\' ; \\' b - orem @ rtis . ray . com \\' ; \\' jetpilot @ sprintmail . com \\' ;\\r\\n\\' orr @ caprock . net \\' ; \\' kwunsch @ ci . garland . tx . us \\' ; \\' jott @ rsn . hp . com \\' ;\\r\\n\\' tamc 66 @ aol . com \\' ; \\' atm 97 @ aol . com \\' ; \\' powen 94 @ yahoo . com \\' ;\\r\\n\\' yohanp @ netscape . net \\' ; \\' palitza @ att . net \\' ; \\' dpalmer @ pisd . edu \\' ;\\r\\n\\' cparker @ garlandpower - light . org \\' ; \\' wanda . parker @ wjpenterprises . com \\' ;\\r\\n\\' tamu 97 @ airmail . net \\' ; \\' jpatoskie @ home . com \\' ;\\r\\n\\' judy . peacock @ worldnet . att . net \\' ; \\' david . a . pearl @ travelers . com \\' ;\\r\\n\\' katie @ lifelinehomehealth . com \\' ; \\' ppedison @ aol . com \\' ;\\r\\n\\' lpeichel @ nortelnetworks . com \\' ; \\' mpell @ uswebcks . com \\' ; \\' dannyp 83 @ gte . net \\' ;\\r\\n\\' david _ perry @ 3 com . com \\' ; \\' picardl 999 @ hotmail . com \\' ;\\r\\n\\' friscoattorney @ aol . com \\' ; \\' dphillips @ pfsoutsourcing . com \\' ;\\r\\n\\' cpierce @ lee - eng . com \\' ; \\' kurtpifer @ hotmail . com \\' ;\\r\\n\\' stephen _ pilcher @ yahoo . com \\' ; \\' wpindar 3 @ email . msn . com \\' ;\\r\\n\\' pingenot @ gte . net \\' ; \\' pinzon @ nortel . com \\' ; \\' mwpiper @ onramp . net \\' ;\\r\\n\\' dpitts @ acm . org \\' ; \\' ppjp @ airmail . net \\' ; \\' mplumer @ synhrgy . com \\' ;\\r\\n\\' randy @ pogueinc . com \\' ; \\' jerrypoin @ home . com \\' ;\\r\\n\\' tony . pollacia @ fritolay . com \\' ; \\' tammypon @ hmhs . com \\' ;\\r\\n\\' kent @ webdelight . net \\' ; \\' cporter @ nortelnetworks . com \\' ;\\r\\n\\' sporter @ texas . net \\' ; \\' porterfields @ prodigy . net \\' ; \\' texas _ anm @ yahoo . com \\' ;\\r\\n\\' poteet @ dmans . com \\' ; \\' billpowello 4 @ home . com \\' ; \\' ammy 5 @ aol . com \\' ;\\r\\n\\' joshp @ thisco . com \\' ; \\' marykpowl @ syscodallas . com \\' ;\\r\\n\\' prater 2 @ earthlink . net \\' ; \\' dprattl @ home . com \\' ; \\' d - presley @ tamu . edu \\' ;\\r\\n\\' musicgrl 68 @ aol . com \\' ; \\' pauld @ homemail . com \\' ; \\' kpruitt @ gasequipment . com \\' ;\\r\\n\\' pprzada @ aol . com \\' ; \\' beckyp @ bmisystems . com \\' ; \\' impurdy @ 5 pillars . com \\' ;\\r\\n\\' mrpyatt @ airmail . net \\' ; \\' jlqjr @ gte . net \\' ; \\' scradford @ aol . com \\' ;\\r\\n\\' melissa _ ragan @ richards . com \\' ; \\' eric . ragle @ cisco - eagle . com \\' ;\\r\\n\\' maheswaran _ rajasekharan @ i 2 . com \\' ; \\' kikiaggie @ webcombo . net \\' ;\\r\\n\\' mramsey @ unitedad . com \\' ; \\' michael . rasmussen @ ps . net \\' ; \\' j - read @ tamu . edu \\' ;\\r\\n\\' jlreadpa @ aol . com \\' ; \\' reasor @ rsn . hp . com \\' ; \\' reck @ gateway . net \\' ;\\r\\n\\' cindy . redman @ eds . com \\' ; \\' dreed @ is . arco . com \\' ; \\' reedl 00 @ msn . com \\' ;\\r\\n\\' tdreed @ airmail . net \\' ; \\' solutionhr @ aol . com \\' ; \\' jreeves @ agave . com \\' ;\\r\\n\\' cremmele @ aol . com \\' ; \\' rrestivo @ eversoft . com \\' ; \\' erice 8 @ aol . com \\' ;\\r\\n\\' sanrice @ aol . com \\' ; \\' ct _ richard @ hotmail . com \\' ; \\' mrichard @ arcmail . com \\' ;\\r\\n\\' krichards @ acsdallas . com \\' ; \\' paula . g . richmond @ fritolay . com \\' ;\\r\\n\\' jrickman @ hppclaw . com \\' ; \\' tlrigby @ home . com \\' ; \\' kcriggs @ yahoo . com \\' ;\\r\\n\\' mrightm @ mail . arco . com \\' ; \\' jriha @ businessobjects . com \\' ; \\' rrinker @ wtd . net \\' ;\\r\\n\\' rippees @ swbell . net \\' ; \\' rippel @ utdallas . edu \\' ; \\' writchie @ ci . irving . tx . us \\' ;\\r\\n\\' bradyroberts @ hotmail . com \\' ; \\' laserbaker @ worldnet . att . net \\' ;\\r\\n\\' frobert @ aol . com \\' ; \\' krisaggi @ aol . com \\' ; \\' ker @ ti . com \\' ; \\' roco @ nortel . com \\' ;\\r\\n\\' kjroeker @ airmail . net \\' ; \\' jimroseo 3 @ home . com \\' ;\\r\\n\\' suzanne _ ross @ campbellsoup . com \\' ; \\' jim _ rountree @ logiclsales . com \\' ;\\r\\n\\' eddie . rueffer @ mci . com \\' ; \\' srupprecht @ chubb . com \\' ; \\' jennyr @ wtd . net \\' ;\\r\\n\\' kimed @ hotmail . com \\' ; \\' jryan @ uswebcks . com \\' ; \\' emsalazar 25 @ hotmail . com \\' ;\\r\\n\\' k - salazarl @ ti . com \\' ; \\' jlsales @ waymark . net \\' ;\\r\\n\\' msanchez @ mckinneytexas . org \\' ; \\' steven . sarkissian @ painwebber . com \\' ;\\r\\n\\' danna @ nortelnetworks . com \\' ; \\' tsawyers @ aol . com \\' ; \\' scheumack @ juno . com \\' ;\\r\\n\\' dschmidt @ camozzi - usa . com \\' ; \\' pschmidt @ connect . net \\' ; \\' tammyms @ yahoo . com \\' ;\\r\\n\\' nathan . schockmel @ usa . alcatel . com \\' ; \\' kschoenhals @ metasolv . com \\' ;\\r\\n\\' schuelerjs @ aol . com \\' ; \\' diana _ p _ seal @ email . mobil . com \\' ;\\r\\n\\' pkemper @ 3 dfx . com \\' ; \\' sherri . seeger @ wylieisd . net \\' ; \\' maseeley @ avaya . com \\' ;\\r\\n\\' tseely @ attglobal . net \\' ; \\' rshackelford @ home . com \\' ;\\r\\n\\' shannons @ websurfer . net \\' ; \\' jtshannon @ ticnet . com \\' ;\\r\\n\\' loren . sharkey @ brinker . com \\' ; \\' rehan @ computer . org \\' ; \\' gryffynn @ aol . com \\' ;\\r\\n\\' xosloren @ ti . com \\' ; \\' roger . shellenberger @ exscol . exch . eds . com \\' ;\\r\\n\\' kshelton @ amfm . com \\' ; \\' samleannshields @ aol . com \\' ; \\' sbshin @ evl . net \\' ;\\r\\n\\' alsikes @ pbsj . com \\' ; \\' glenn _ silva @ gmaccm . com \\' ;\\r\\n\\' frank . silva @ industrialrisk . com \\' ; \\' simmonds @ marykay . com \\' ;\\r\\n\\' atmrick @ aol . com \\' ; \\' isivin @ aol . com \\' ; \\' rskaggs @ hksinc . com \\' ;\\r\\n\\' bskalberg @ aol . com \\' ; \\' todd @ nkn . net \\' ; \\' dsmart @ dttus . com \\' ;\\r\\n\\' amy . l . smith @ eds . com \\' ; \\' egsmith @ home . com \\' ;\\r\\n\\' john _ charles _ smith @ compuserve . com \\' ; \\' john - h - smith @ raytheon . com \\' ;\\r\\n\\' ksmith @ kma - rjfs . com \\' ; \\' shanda @ wans . net \\' ;\\r\\n\\' michael . smith @ usa . alcatel . com \\' ; \\' rjsmith @ minutemaid . com \\' ;\\r\\n\\' rsmith @ metasolv . com \\' ; \\' dick _ smith @ pagenet . com \\' ;\\r\\n\\' agent _ maroon @ hotmail . com \\' ; \\' enviropure @ home . com \\' ; \\' unclewil @ home . com \\' ;\\r\\n\\' jsmitherman @ cinemark . com \\' ; \\' jim _ snow @ millipore . com \\' ;\\r\\n\\' gpsparks @ hotmail . com \\' ; \\' tspo 92891 @ aol . com \\' ; \\' dspencer @ dbssystems . com \\' ;\\r\\n\\' lspielel @ txu . com \\' ; \\' txagl 987 @ aol . com \\' ; \\' g - stanford @ raytheon . com \\' ;\\r\\n\\' petgeoguru @ hotmail . com \\' ; \\' jstara @ arcmail . com \\' ;\\r\\n\\' kgstavin @ garlandisd . net \\' ; \\' tbstebbins @ aol . com \\' ; \\' jsteck @ ti . com \\' ;\\r\\n\\' steffler @ mindspring . com \\' ; \\' gsteglich @ home . com \\' ; \\' shane @ computer . org \\' ;\\r\\n\\' sastephen @ home . com \\' ; \\' dereks @ us . ibm . com \\' ; \\' tsteudtner @ aol . com \\' ;\\r\\n\\' jill . stevens @ risd . org \\' ; \\' jnelwyn @ aol . com \\' ; \\' dons @ gwmail . plano . gov \\' ;\\r\\n\\' mstewart 70 @ aol . com \\' ; \\' pstewart 86 @ hotmail . com \\' ;\\r\\n\\' rastewartl 2 @ hotmail . com \\' ; \\' msticken @ airmail . net \\' ;\\r\\n\\' cstockmoe @ yahoo . com \\' ; \\' k - stokes @ tamu . edu \\' ; \\' michael _ stone @ nt . com \\' ;\\r\\n\\' mcstrietzel @ home . com \\' ; \\' staceys @ omassociates . com \\' ;\\r\\n\\' sstroth @ glitsch . com \\' ; \\' h - r . strozewski @ worldnet . att . net \\' ;\\r\\n\\' astryker @ swbell . net \\' ; \\' macecs @ hotmail . com \\' ; \\' smsturgeon @ kpmg . com \\' ;\\r\\n\\' sullivan 22 @ home . com \\' ; \\' normas @ airmail . net \\' ; \\' wswanson @ cyberramp . net \\' ;\\r\\n\\' rtank 20 @ aol . com \\' ; \\' matt _ tanner @ txu . com \\' ; \\' ftargac @ hotmail . com \\' ;\\r\\n\\' taylorgr @ nortel . com \\' ; \\' taylorl @ airmail . net \\' ; \\' aggierob @ hotmail . com \\' ;\\r\\n\\' teresa . taylor @ st . com \\' ; \\' ticaw @ hotmail . com \\' ; \\' wst @ flash . net \\' ;\\r\\n\\' caceett @ hotmail . com \\' ; \\' punt 3442 @ aol . com \\' ; \\' chris . t @ prodigy . net \\' ;\\r\\n\\' denise . thatcher @ eds . com \\' ; \\' mjthed @ earthlink . net \\' ;\\r\\n\\' brandon . theis @ eds . com \\' ; \\' steve _ thelen @ cushwake . com \\' ;\\r\\n\\' arthur . thomas @ ace - ina . com \\' ; \\' tthomas @ cooperinst . org \\' ;\\r\\n\\' dthomps 2 @ pisd . edu \\' ; \\' nthompson @ swst . com \\' ; \\' psthompson @ mindspring . com \\' ;\\r\\n\\' rthompso @ kofax . com \\' ; \\' tierney _ thompson @ winston - school . org \\' ;\\r\\n\\' b - tinker @ ti . com \\' ; \\' tipp @ airmail . net \\' ; \\' atokarz @ usa . alcatel . com \\' ;\\r\\n\\' bevtoney @ aol . com \\' ; \\' kstowery @ mindspring . com \\' ;\\r\\n\\' patrick . traubert @ tripointglobal . com \\' ; \\' heidigigem 96 @ yahoo . com \\' ;\\r\\n\\' tiffanytrox @ yahoo . com \\' ; \\' dddtruitt @ juno . com \\' ;\\r\\n\\' tschetter @ worldnet . att . net \\' ; \\' 9 mtucker @ home . com \\' ;\\r\\n\\' oxymomloree @ aol . com \\' ; \\' cturner @ entest . net \\' ; \\' aisdal @ aol . com \\' ;\\r\\n\\' rachturney @ yahoo . com \\' ; \\' gulteig @ starrunner . net \\' ; \\' gutay @ airmail . net \\' ;\\r\\n\\' hutay @ yahoo . com \\' ; \\' valls @ earthlink . net \\' ; \\' hvanpelt @ msn . net \\' ;\\r\\n\\' dwv @ vanderburg . org \\' ; \\' timv @ cheerful . com \\' ; \\' r - cvaughn @ juno . com \\' ;\\r\\n\\' annette . vela @ homecomings . com \\' ; \\' jvetkoetter @ pipeline . com \\' ;\\r\\n\\' diane _ vetter @ hotmail . com \\' ; \\' vicem @ hdvest . com \\' ; \\' jennifer @ vilches . org \\' ;\\r\\n\\' pvilches @ home . com \\' ; \\' spvill @ flash . net \\' ; \\' ssv @ attglobal . net \\' ;\\r\\n\\' kristi . l . vitek @ fritolay . com \\' ; \\' voltin @ airmail . net \\' ; \\' wagso 0 @ yahoo . com \\' ;\\r\\n\\' walessc @ nortelnetworks . com \\' ; \\' bwalker @ fmtinv . com \\' ;\\r\\n\\' brian . walker @ exchange - point . com \\' ; \\' deanwalker @ computer . org \\' ;\\r\\n\\' ken . walker @ mscsoftware . com \\' ; \\' shannon . wallace @ usa . net \\' ;\\r\\n\\' b _ wallace @ prodigy . net \\' ; \\' wwallenl @ airmail . net \\' ; \\' mkwalle @ yahoo . com \\' ;\\r\\n\\' twaller @ excite . com \\' ; \\' drwaller @ hotmail . com \\' ;\\r\\n\\' maxwalters @ worldnet . att . net \\' ; \\' kwalzel @ cisco . com \\' ;\\r\\n\\' julie . warden @ mhmr . state . tx . us \\' ; \\' warner @ ont . com \\' ; \\' watersco @ flash . net \\' ;\\r\\n\\' julie . watkins @ eds . com \\' ; \\' apwo 397 @ juno . com \\' ; \\' patricia . watsono 2 @ ey . com \\' ;\\r\\n\\' jwebb @ dalsemi . com \\' ; \\' jkwebb 41 @ gateway . net \\' ; \\' debbiew @ mciworld . com \\' ;\\r\\n\\' robin - w @ juno . com \\' ; \\' sally _ welch @ excite . com \\' ;\\r\\n\\' twelch @ nortelnetworks . com \\' ; \\' awaller @ csc . com \\' ;\\r\\n\\' gregwemhoener @ home . com \\' ; \\' susanwempe @ hotmail . com \\' ; \\' jwest 78 @ aol . com \\' ;\\r\\n\\' mike . west @ usa . alcatel . com \\' ; \\' joannwest @ earthlink . net \\' ;\\r\\n\\' mweynand @ flash . net \\' ; \\' weynandken @ johndeere . com \\' ; \\' mweynand @ flash . net \\' ;\\r\\n\\' mmw @ airmail . net \\' ; \\' ewheal @ jcpenney . com \\' ; \\' swhite @ tx . pathnet . net \\' ;\\r\\n\\' txag 93 sw @ flash . net \\' ; \\' chris @ iex . com \\' ; \\' wiegard @ nortel . com \\' ;\\r\\n\\' cindyw @ pobox . com \\' ; \\' jbouldin @ teleteam . com \\' ; \\' mike @ paragon - tx . com \\' ;\\r\\n\\' rtwilkinsn @ aol . com \\' ; \\' jerriw @ arn . net \\' ; \\' joeaggie 93 @ msn . com \\' ;\\r\\n\\' kristilw @ swbell . net \\' ; \\' a 50 @ flash . net \\' ; \\' rkwbdw 580 @ cs . com \\' ;\\r\\n\\' kswccw @ swbell . net \\' ; \\' designpath @ sprynet . com \\' ; \\' drw 58 ag @ aol . com \\' ;\\r\\n\\' wilsonaggies @ home . com \\' ; \\' normabautista @ worldnet . att . net \\' ;\\r\\n\\' skisheri @ aol . com \\' ; \\' emajo . wilson @ gte . net \\' ; \\' jenkonquin @ aol . com \\' ;\\r\\n\\' wvicw @ aol . com \\' ; \\' teresa . wood @ st . com \\' ; \\' lwood 963 @ flash . net \\' ;\\r\\n\\' tcwoolley @ writeme . com \\' ; \\' sworsham @ supermovers . com \\' ;\\r\\n\\' brad _ worth @ csicontrols . com \\' ; \\' wrightson . family @ gte . net \\' ;\\r\\n\\' dwu @ tqtx . com \\' ; \\' dlwylie @ swbell . net \\' ; \\' christa . yakel @ sap - ag . de \\' ;\\r\\n\\' yarbrough _ james @ hotmail . com \\' ; \\' suzan @ guyyork . com \\' ;\\r\\n\\' karen _ znoj @ merck . com \\'\\r\\nsubject : \" red , white and blue out \"\\r\\nsubject : the osu game and aggie spirit\\r\\nthis just in ags ! if you are going to the osu game on sept 22 , a red , white\\r\\n& blue out is being planned , just like the maroon out games for the osu\\r\\ngame .\\r\\nags , what better statement can we aggies make , than to celebrate the love\\r\\nand support for our country \\' s freedom , and our patriotic nature , than this\\r\\nway :\\r\\nimagine . . . the fightin \\' texas aggie band playing \" the star spangled banner , \"\\r\\nplaying military drills as they walk around the stadium , and we celebrate\\r\\nour love for our country , and our support for all the heroes , alive and\\r\\ndeceased . color assignments are as follows :\\r\\n3 rd deck : red\\r\\n2 nd deck : white lst deck : blue\\r\\npass the word on . . . . we have 1 1 / 2 weeks ! !\\r\\nthe spirit of america , and the aggie spirit is still alive . god bless\\r\\namerica , the free nation .\\r\\npass it on .'"
      ]
     },
     "execution_count": 16,
     "metadata": {},
     "output_type": "execute_result"
    }
   ],
   "source": [
    "message[message['length']== 32258]['message'].iloc[0]"
   ]
  },
  {
   "cell_type": "markdown",
   "id": "3376c91c",
   "metadata": {},
   "source": [
    "# Text Pre-processing"
   ]
  },
  {
   "cell_type": "code",
   "execution_count": 17,
   "id": "6003c3c3",
   "metadata": {},
   "outputs": [
    {
     "name": "stdout",
     "output_type": "stream",
     "text": [
      "sample message\n"
     ]
    }
   ],
   "source": [
    "import string\n",
    "\n",
    "mess = 'sample message!...'\n",
    "nopunc = [char for char in mess if char not in string.punctuation]\n",
    "nopunc=''.join(nopunc)\n",
    "print(nopunc)"
   ]
  },
  {
   "cell_type": "code",
   "execution_count": 18,
   "id": "953ae6c5",
   "metadata": {},
   "outputs": [
    {
     "data": {
      "text/plain": [
       "['i', 'me', 'my', 'myself', 'we', 'our', 'ours', 'ourselves', 'you', \"you're\"]"
      ]
     },
     "execution_count": 18,
     "metadata": {},
     "output_type": "execute_result"
    }
   ],
   "source": [
    "from nltk.corpus import stopwords\n",
    "stopwords.words('english')[0:10]"
   ]
  },
  {
   "cell_type": "code",
   "execution_count": 19,
   "id": "ae46bb03",
   "metadata": {},
   "outputs": [
    {
     "data": {
      "text/plain": [
       "['sample', 'message']"
      ]
     },
     "execution_count": 19,
     "metadata": {},
     "output_type": "execute_result"
    }
   ],
   "source": [
    "nopunc.split()"
   ]
  },
  {
   "cell_type": "code",
   "execution_count": 20,
   "id": "ee69b57b",
   "metadata": {},
   "outputs": [],
   "source": [
    "clean_mess=[word for word in nopunc.split() if word.lower() not in stopwords.words('english')]"
   ]
  },
  {
   "cell_type": "code",
   "execution_count": 21,
   "id": "adad6500",
   "metadata": {},
   "outputs": [
    {
     "data": {
      "text/plain": [
       "['sample', 'message']"
      ]
     },
     "execution_count": 21,
     "metadata": {},
     "output_type": "execute_result"
    }
   ],
   "source": [
    "clean_mess"
   ]
  },
  {
   "cell_type": "code",
   "execution_count": 22,
   "id": "239b6bb4",
   "metadata": {},
   "outputs": [],
   "source": [
    "#Now let's put both of these together in a function to apply it to our DataFrame later on:\n",
    "\n",
    "def text_process(mess):\n",
    "    nopunc =[char for char in mess if char not in string.punctuation]\n",
    "    nopunc=''.join(nopunc)\n",
    "    return [word for word in nopunc.split() if word.lower() not in stopwords.words('english')]\n",
    "    "
   ]
  },
  {
   "cell_type": "code",
   "execution_count": 23,
   "id": "f6d6d85f",
   "metadata": {},
   "outputs": [
    {
     "data": {
      "text/html": [
       "<div>\n",
       "<style scoped>\n",
       "    .dataframe tbody tr th:only-of-type {\n",
       "        vertical-align: middle;\n",
       "    }\n",
       "\n",
       "    .dataframe tbody tr th {\n",
       "        vertical-align: top;\n",
       "    }\n",
       "\n",
       "    .dataframe thead th {\n",
       "        text-align: right;\n",
       "    }\n",
       "</style>\n",
       "<table border=\"1\" class=\"dataframe\">\n",
       "  <thead>\n",
       "    <tr style=\"text-align: right;\">\n",
       "      <th></th>\n",
       "      <th>Unnamed: 0</th>\n",
       "      <th>labels</th>\n",
       "      <th>message</th>\n",
       "      <th>length</th>\n",
       "    </tr>\n",
       "  </thead>\n",
       "  <tbody>\n",
       "    <tr>\n",
       "      <th>0</th>\n",
       "      <td>605</td>\n",
       "      <td>ham</td>\n",
       "      <td>Subject: enron methanol ; meter # : 988291\\r\\n...</td>\n",
       "      <td>327</td>\n",
       "    </tr>\n",
       "    <tr>\n",
       "      <th>1</th>\n",
       "      <td>2349</td>\n",
       "      <td>ham</td>\n",
       "      <td>Subject: hpl nom for january 9 , 2001\\r\\n( see...</td>\n",
       "      <td>97</td>\n",
       "    </tr>\n",
       "    <tr>\n",
       "      <th>2</th>\n",
       "      <td>3624</td>\n",
       "      <td>ham</td>\n",
       "      <td>Subject: neon retreat\\r\\nho ho ho , we ' re ar...</td>\n",
       "      <td>2524</td>\n",
       "    </tr>\n",
       "    <tr>\n",
       "      <th>3</th>\n",
       "      <td>4685</td>\n",
       "      <td>spam</td>\n",
       "      <td>Subject: photoshop , windows , office . cheap ...</td>\n",
       "      <td>414</td>\n",
       "    </tr>\n",
       "    <tr>\n",
       "      <th>4</th>\n",
       "      <td>2030</td>\n",
       "      <td>ham</td>\n",
       "      <td>Subject: re : indian springs\\r\\nthis deal is t...</td>\n",
       "      <td>336</td>\n",
       "    </tr>\n",
       "  </tbody>\n",
       "</table>\n",
       "</div>"
      ],
      "text/plain": [
       "   Unnamed: 0 labels                                            message  \\\n",
       "0         605    ham  Subject: enron methanol ; meter # : 988291\\r\\n...   \n",
       "1        2349    ham  Subject: hpl nom for january 9 , 2001\\r\\n( see...   \n",
       "2        3624    ham  Subject: neon retreat\\r\\nho ho ho , we ' re ar...   \n",
       "3        4685   spam  Subject: photoshop , windows , office . cheap ...   \n",
       "4        2030    ham  Subject: re : indian springs\\r\\nthis deal is t...   \n",
       "\n",
       "   length  \n",
       "0     327  \n",
       "1      97  \n",
       "2    2524  \n",
       "3     414  \n",
       "4     336  "
      ]
     },
     "execution_count": 23,
     "metadata": {},
     "output_type": "execute_result"
    }
   ],
   "source": [
    "# Here is the original DataFrame again:\n",
    "\n",
    "message.head()"
   ]
  },
  {
   "cell_type": "markdown",
   "id": "55cffc5a",
   "metadata": {},
   "source": [
    "# Now let's \"tokenize\" these messages."
   ]
  },
  {
   "cell_type": "code",
   "execution_count": 24,
   "id": "cb2e4a3b",
   "metadata": {},
   "outputs": [
    {
     "data": {
      "text/plain": [
       "0    [Subject, enron, methanol, meter, 988291, foll...\n",
       "1    [Subject, hpl, nom, january, 9, 2001, see, att...\n",
       "2    [Subject, neon, retreat, ho, ho, ho, around, w...\n",
       "3    [Subject, photoshop, windows, office, cheap, m...\n",
       "4    [Subject, indian, springs, deal, book, teco, p...\n",
       "Name: message, dtype: object"
      ]
     },
     "execution_count": 24,
     "metadata": {},
     "output_type": "execute_result"
    }
   ],
   "source": [
    "message['message'].head(5).apply(text_process)"
   ]
  },
  {
   "cell_type": "code",
   "execution_count": 25,
   "id": "17a485bb",
   "metadata": {},
   "outputs": [
    {
     "data": {
      "text/html": [
       "<div>\n",
       "<style scoped>\n",
       "    .dataframe tbody tr th:only-of-type {\n",
       "        vertical-align: middle;\n",
       "    }\n",
       "\n",
       "    .dataframe tbody tr th {\n",
       "        vertical-align: top;\n",
       "    }\n",
       "\n",
       "    .dataframe thead th {\n",
       "        text-align: right;\n",
       "    }\n",
       "</style>\n",
       "<table border=\"1\" class=\"dataframe\">\n",
       "  <thead>\n",
       "    <tr style=\"text-align: right;\">\n",
       "      <th></th>\n",
       "      <th>Unnamed: 0</th>\n",
       "      <th>labels</th>\n",
       "      <th>message</th>\n",
       "      <th>length</th>\n",
       "    </tr>\n",
       "  </thead>\n",
       "  <tbody>\n",
       "    <tr>\n",
       "      <th>0</th>\n",
       "      <td>605</td>\n",
       "      <td>ham</td>\n",
       "      <td>Subject: enron methanol ; meter # : 988291\\r\\n...</td>\n",
       "      <td>327</td>\n",
       "    </tr>\n",
       "    <tr>\n",
       "      <th>1</th>\n",
       "      <td>2349</td>\n",
       "      <td>ham</td>\n",
       "      <td>Subject: hpl nom for january 9 , 2001\\r\\n( see...</td>\n",
       "      <td>97</td>\n",
       "    </tr>\n",
       "    <tr>\n",
       "      <th>2</th>\n",
       "      <td>3624</td>\n",
       "      <td>ham</td>\n",
       "      <td>Subject: neon retreat\\r\\nho ho ho , we ' re ar...</td>\n",
       "      <td>2524</td>\n",
       "    </tr>\n",
       "    <tr>\n",
       "      <th>3</th>\n",
       "      <td>4685</td>\n",
       "      <td>spam</td>\n",
       "      <td>Subject: photoshop , windows , office . cheap ...</td>\n",
       "      <td>414</td>\n",
       "    </tr>\n",
       "    <tr>\n",
       "      <th>4</th>\n",
       "      <td>2030</td>\n",
       "      <td>ham</td>\n",
       "      <td>Subject: re : indian springs\\r\\nthis deal is t...</td>\n",
       "      <td>336</td>\n",
       "    </tr>\n",
       "  </tbody>\n",
       "</table>\n",
       "</div>"
      ],
      "text/plain": [
       "   Unnamed: 0 labels                                            message  \\\n",
       "0         605    ham  Subject: enron methanol ; meter # : 988291\\r\\n...   \n",
       "1        2349    ham  Subject: hpl nom for january 9 , 2001\\r\\n( see...   \n",
       "2        3624    ham  Subject: neon retreat\\r\\nho ho ho , we ' re ar...   \n",
       "3        4685   spam  Subject: photoshop , windows , office . cheap ...   \n",
       "4        2030    ham  Subject: re : indian springs\\r\\nthis deal is t...   \n",
       "\n",
       "   length  \n",
       "0     327  \n",
       "1      97  \n",
       "2    2524  \n",
       "3     414  \n",
       "4     336  "
      ]
     },
     "execution_count": 25,
     "metadata": {},
     "output_type": "execute_result"
    }
   ],
   "source": [
    "message.head()"
   ]
  },
  {
   "cell_type": "markdown",
   "id": "3f7ae3ff",
   "metadata": {},
   "source": [
    "# Vectorization"
   ]
  },
  {
   "cell_type": "code",
   "execution_count": 26,
   "id": "0ff901fc",
   "metadata": {},
   "outputs": [],
   "source": [
    "from sklearn.feature_extraction.text import CountVectorizer"
   ]
  },
  {
   "cell_type": "code",
   "execution_count": 27,
   "id": "9be19122",
   "metadata": {},
   "outputs": [
    {
     "name": "stdout",
     "output_type": "stream",
     "text": [
      "50381\n"
     ]
    }
   ],
   "source": [
    "bow_transformer = CountVectorizer(analyzer=text_process).fit(message['message'])\n",
    "print(len(bow_transformer.vocabulary_))"
   ]
  },
  {
   "cell_type": "code",
   "execution_count": 28,
   "id": "933eed47",
   "metadata": {},
   "outputs": [
    {
     "name": "stdout",
     "output_type": "stream",
     "text": [
      "Subject: photoshop , windows , office . cheap . main trending\r\n",
      "abasements darer prudently fortuitous undergone\r\n",
      "lighthearted charm orinoco taster\r\n",
      "railroad affluent pornographic cuvier\r\n",
      "irvin parkhouse blameworthy chlorophyll\r\n",
      "robed diagrammatic fogarty clears bayda\r\n",
      "inconveniencing managing represented smartness hashish\r\n",
      "academies shareholders unload badness\r\n",
      "danielson pure caffein\r\n",
      "spaniard chargeable levin\r\n",
      "\n"
     ]
    }
   ],
   "source": [
    "message4=message['message'][3]\n",
    "print(message4)\n"
   ]
  },
  {
   "cell_type": "code",
   "execution_count": 29,
   "id": "86c7495f",
   "metadata": {},
   "outputs": [
    {
     "name": "stdout",
     "output_type": "stream",
     "text": [
      "  (0, 4725)\t1\n",
      "  (0, 4761)\t1\n",
      "  (0, 4928)\t1\n",
      "  (0, 5533)\t1\n",
      "  (0, 8040)\t1\n",
      "  (0, 8422)\t1\n",
      "  (0, 9357)\t1\n",
      "  (0, 10877)\t1\n",
      "  (0, 11952)\t1\n",
      "  (0, 11982)\t1\n",
      "  (0, 12030)\t1\n",
      "  (0, 12215)\t1\n",
      "  (0, 12664)\t1\n",
      "  (0, 14970)\t1\n",
      "  (0, 15210)\t1\n",
      "  (0, 15237)\t1\n",
      "  (0, 16322)\t1\n",
      "  (0, 20824)\t1\n",
      "  (0, 21035)\t1\n",
      "  (0, 23435)\t1\n",
      "  (0, 25454)\t1\n",
      "  (0, 26352)\t1\n",
      "  (0, 28847)\t1\n",
      "  (0, 28973)\t1\n",
      "  (0, 29969)\t1\n",
      "  (0, 30082)\t1\n",
      "  (0, 33683)\t1\n",
      "  (0, 34217)\t1\n",
      "  (0, 34817)\t1\n",
      "  (0, 35633)\t1\n",
      "  (0, 36330)\t1\n",
      "  (0, 37245)\t1\n",
      "  (0, 37429)\t1\n",
      "  (0, 38082)\t1\n",
      "  (0, 39033)\t1\n",
      "  (0, 39744)\t1\n",
      "  (0, 41385)\t1\n",
      "  (0, 42157)\t1\n",
      "  (0, 42575)\t1\n",
      "  (0, 44360)\t1\n",
      "  (0, 45818)\t1\n",
      "  (0, 46549)\t1\n",
      "  (0, 46669)\t1\n",
      "  (0, 48732)\t1\n",
      "(1, 50381)\n"
     ]
    }
   ],
   "source": [
    "# Now let's see its vector representation:\n",
    "\n",
    "bow4=bow_transformer.transform([message4])\n",
    "print(bow4)\n",
    "print(bow4.shape)"
   ]
  },
  {
   "cell_type": "code",
   "execution_count": 31,
   "id": "9ed49a7f",
   "metadata": {},
   "outputs": [
    {
     "name": "stdout",
     "output_type": "stream",
     "text": [
      "9080\n",
      "bo\n"
     ]
    }
   ],
   "source": [
    "print(bow_transformer.get_feature_names_out()[4073])\n",
    "print(bow_transformer.get_feature_names_out()[9570])\n"
   ]
  },
  {
   "cell_type": "code",
   "execution_count": 32,
   "id": "d5d2cc2b",
   "metadata": {},
   "outputs": [],
   "source": [
    "message_bow = bow_transformer.transform(message['message'])"
   ]
  },
  {
   "cell_type": "code",
   "execution_count": 33,
   "id": "a955a091",
   "metadata": {},
   "outputs": [
    {
     "name": "stdout",
     "output_type": "stream",
     "text": [
      "Shape of Sparse Matrix:  (5171, 50381)\n",
      "Amount of non-zero occurences: 374350\n"
     ]
    }
   ],
   "source": [
    "print('Shape of Sparse Matrix: ',message_bow.shape)\n",
    "print('Amount of non-zero occurences:',message_bow.nnz)"
   ]
  },
  {
   "cell_type": "code",
   "execution_count": 34,
   "id": "5d199af8",
   "metadata": {},
   "outputs": [
    {
     "name": "stdout",
     "output_type": "stream",
     "text": [
      "sparsity:0\n"
     ]
    }
   ],
   "source": [
    "sparsity =(100.0 * message_bow.nnz/(message_bow.shape[0]*message_bow.shape[1]))\n",
    "print('sparsity:{}'.format(round(sparsity)))"
   ]
  },
  {
   "cell_type": "code",
   "execution_count": 39,
   "id": "c4c6cfb6",
   "metadata": {},
   "outputs": [
    {
     "name": "stdout",
     "output_type": "stream",
     "text": [
      "  (0, 48732)\t0.09472899214522401\n",
      "  (0, 46669)\t0.16463637773713372\n",
      "  (0, 46549)\t0.16463637773713372\n",
      "  (0, 45818)\t0.15710021779224972\n",
      "  (0, 44360)\t0.16463637773713372\n",
      "  (0, 42575)\t0.151753227217924\n",
      "  (0, 42157)\t0.16463637773713372\n",
      "  (0, 41385)\t0.12486012923083871\n",
      "  (0, 39744)\t0.16463637773713372\n",
      "  (0, 39033)\t0.151753227217924\n",
      "  (0, 38082)\t0.14135195223463107\n",
      "  (0, 37429)\t0.12598692617950458\n",
      "  (0, 37245)\t0.16463637773713372\n",
      "  (0, 36330)\t0.16463637773713372\n",
      "  (0, 35633)\t0.10518437621291869\n",
      "  (0, 34817)\t0.16463637773713372\n",
      "  (0, 34217)\t0.16463637773713372\n",
      "  (0, 33683)\t0.07430968168113034\n",
      "  (0, 30082)\t0.11253183953843214\n",
      "  (0, 29969)\t0.10895632755749854\n",
      "  (0, 28973)\t0.16463637773713372\n",
      "  (0, 28847)\t0.16463637773713372\n",
      "  (0, 26352)\t0.16463637773713372\n",
      "  (0, 25454)\t0.16463637773713372\n",
      "  (0, 23435)\t0.15710021779224972\n",
      "  (0, 21035)\t0.15710021779224972\n",
      "  (0, 20824)\t0.16463637773713372\n",
      "  (0, 16322)\t0.15710021779224972\n",
      "  (0, 15237)\t0.16463637773713372\n",
      "  (0, 15210)\t0.151753227217924\n",
      "  (0, 14970)\t0.16463637773713372\n",
      "  (0, 12664)\t0.16463637773713372\n",
      "  (0, 12215)\t0.16463637773713372\n",
      "  (0, 12030)\t0.09909382819241928\n",
      "  (0, 11982)\t0.151753227217924\n",
      "  (0, 11952)\t0.15710021779224972\n",
      "  (0, 10877)\t0.16463637773713372\n",
      "  (0, 9357)\t0.16463637773713372\n",
      "  (0, 8422)\t0.15710021779224972\n",
      "  (0, 8040)\t0.16463637773713372\n",
      "  (0, 5533)\t0.15710021779224972\n",
      "  (0, 4928)\t0.16463637773713372\n",
      "  (0, 4761)\t0.16463637773713372\n",
      "  (0, 4725)\t0.018586457365089928\n"
     ]
    }
   ],
   "source": [
    "from sklearn.feature_extraction.text import TfidfTransformer\n",
    "tfidf_transformer=TfidfTransformer().fit(message_bow)\n",
    "tfidf4 = tfidf_transformer.transform(bow4)\n",
    "print(tfidf4)\n"
   ]
  },
  {
   "cell_type": "code",
   "execution_count": 40,
   "id": "71df634d",
   "metadata": {},
   "outputs": [
    {
     "name": "stdout",
     "output_type": "stream",
     "text": [
      "4.298741311845118\n",
      "6.778426017651967\n"
     ]
    }
   ],
   "source": [
    "## We'll go ahead and check what is the IDF (inverse document frequency) of the word \"u\" and of word \"university\"?\n",
    "\n",
    "print(tfidf_transformer.idf_[bow_transformer.vocabulary_['u']])\n",
    "print(tfidf_transformer.idf_[bow_transformer.vocabulary_['university']])\n"
   ]
  },
  {
   "cell_type": "code",
   "execution_count": 43,
   "id": "5b3a565a",
   "metadata": {},
   "outputs": [
    {
     "name": "stdout",
     "output_type": "stream",
     "text": [
      "(5171, 50381)\n"
     ]
    }
   ],
   "source": [
    "message_tfidf=tfidf_transformer.transform(message_bow)\n",
    "print(message_tfidf.shape)"
   ]
  },
  {
   "cell_type": "markdown",
   "id": "d2323bca",
   "metadata": {},
   "source": [
    "#  Training a model -- Naive Bayes Classifier"
   ]
  },
  {
   "cell_type": "code",
   "execution_count": 44,
   "id": "8da92d10",
   "metadata": {},
   "outputs": [],
   "source": [
    "from sklearn.naive_bayes import MultinomialNB\n",
    "spam_detect_model = MultinomialNB().fit(message_tfidf,message['labels'])"
   ]
  },
  {
   "cell_type": "code",
   "execution_count": 45,
   "id": "130c96e3",
   "metadata": {},
   "outputs": [
    {
     "name": "stdout",
     "output_type": "stream",
     "text": [
      "predicted: spam\n",
      "expected: spam\n"
     ]
    }
   ],
   "source": [
    "print('predicted:',spam_detect_model.predict(tfidf4)[0])\n",
    "print('expected:',message.labels[3])"
   ]
  },
  {
   "cell_type": "markdown",
   "id": "5d6e14df",
   "metadata": {},
   "source": [
    "#  Model Evaluation"
   ]
  },
  {
   "cell_type": "code",
   "execution_count": 46,
   "id": "f93c13d6",
   "metadata": {},
   "outputs": [
    {
     "name": "stdout",
     "output_type": "stream",
     "text": [
      "['ham' 'ham' 'ham' ... 'ham' 'ham' 'ham']\n"
     ]
    }
   ],
   "source": [
    "all_predictions = spam_detect_model.predict(message_tfidf)\n",
    "print(all_predictions)"
   ]
  },
  {
   "cell_type": "code",
   "execution_count": 47,
   "id": "83d280e6",
   "metadata": {},
   "outputs": [
    {
     "name": "stdout",
     "output_type": "stream",
     "text": [
      "              precision    recall  f1-score   support\n",
      "\n",
      "         ham       0.95      1.00      0.98      3672\n",
      "        spam       1.00      0.88      0.94      1499\n",
      "\n",
      "    accuracy                           0.97      5171\n",
      "   macro avg       0.98      0.94      0.96      5171\n",
      "weighted avg       0.97      0.97      0.97      5171\n",
      "\n",
      "[[3670    2]\n",
      " [ 174 1325]]\n"
     ]
    }
   ],
   "source": [
    "from sklearn.metrics import classification_report,confusion_matrix\n",
    "print(classification_report(message['labels'],all_predictions))\n",
    "print(confusion_matrix(message['labels'],all_predictions))"
   ]
  },
  {
   "cell_type": "markdown",
   "id": "14b09576",
   "metadata": {},
   "source": [
    "# Train Test Split¶"
   ]
  },
  {
   "cell_type": "code",
   "execution_count": 49,
   "id": "8ef310d9",
   "metadata": {},
   "outputs": [],
   "source": [
    "from sklearn.model_selection import train_test_split\n",
    "msg_train,msg_test,label_train,label_test = train_test_split(message['message'],message['labels'],test_size=0.2)"
   ]
  },
  {
   "cell_type": "code",
   "execution_count": 50,
   "id": "26fcfb93",
   "metadata": {},
   "outputs": [
    {
     "name": "stdout",
     "output_type": "stream",
     "text": [
      "4136 1035 4136 1035\n"
     ]
    }
   ],
   "source": [
    "print(len(msg_train),len(msg_test),len(label_train),len(label_test))"
   ]
  },
  {
   "cell_type": "markdown",
   "id": "648bb70e",
   "metadata": {},
   "source": [
    "# Creating a Data Pipeline "
   ]
  },
  {
   "cell_type": "code",
   "execution_count": 51,
   "id": "6daa03cf",
   "metadata": {},
   "outputs": [],
   "source": [
    "from sklearn.pipeline import Pipeline\n",
    "pipeline = Pipeline([\n",
    "   ( 'bow',CountVectorizer(analyzer=text_process)),\n",
    "    ('tfidf',TfidfTransformer()),\n",
    "    ('classifier',MultinomialNB()),\n",
    "])"
   ]
  },
  {
   "cell_type": "code",
   "execution_count": 52,
   "id": "6019a8be",
   "metadata": {},
   "outputs": [
    {
     "data": {
      "text/html": [
       "<style>#sk-container-id-1 {color: black;background-color: white;}#sk-container-id-1 pre{padding: 0;}#sk-container-id-1 div.sk-toggleable {background-color: white;}#sk-container-id-1 label.sk-toggleable__label {cursor: pointer;display: block;width: 100%;margin-bottom: 0;padding: 0.3em;box-sizing: border-box;text-align: center;}#sk-container-id-1 label.sk-toggleable__label-arrow:before {content: \"▸\";float: left;margin-right: 0.25em;color: #696969;}#sk-container-id-1 label.sk-toggleable__label-arrow:hover:before {color: black;}#sk-container-id-1 div.sk-estimator:hover label.sk-toggleable__label-arrow:before {color: black;}#sk-container-id-1 div.sk-toggleable__content {max-height: 0;max-width: 0;overflow: hidden;text-align: left;background-color: #f0f8ff;}#sk-container-id-1 div.sk-toggleable__content pre {margin: 0.2em;color: black;border-radius: 0.25em;background-color: #f0f8ff;}#sk-container-id-1 input.sk-toggleable__control:checked~div.sk-toggleable__content {max-height: 200px;max-width: 100%;overflow: auto;}#sk-container-id-1 input.sk-toggleable__control:checked~label.sk-toggleable__label-arrow:before {content: \"▾\";}#sk-container-id-1 div.sk-estimator input.sk-toggleable__control:checked~label.sk-toggleable__label {background-color: #d4ebff;}#sk-container-id-1 div.sk-label input.sk-toggleable__control:checked~label.sk-toggleable__label {background-color: #d4ebff;}#sk-container-id-1 input.sk-hidden--visually {border: 0;clip: rect(1px 1px 1px 1px);clip: rect(1px, 1px, 1px, 1px);height: 1px;margin: -1px;overflow: hidden;padding: 0;position: absolute;width: 1px;}#sk-container-id-1 div.sk-estimator {font-family: monospace;background-color: #f0f8ff;border: 1px dotted black;border-radius: 0.25em;box-sizing: border-box;margin-bottom: 0.5em;}#sk-container-id-1 div.sk-estimator:hover {background-color: #d4ebff;}#sk-container-id-1 div.sk-parallel-item::after {content: \"\";width: 100%;border-bottom: 1px solid gray;flex-grow: 1;}#sk-container-id-1 div.sk-label:hover label.sk-toggleable__label {background-color: #d4ebff;}#sk-container-id-1 div.sk-serial::before {content: \"\";position: absolute;border-left: 1px solid gray;box-sizing: border-box;top: 0;bottom: 0;left: 50%;z-index: 0;}#sk-container-id-1 div.sk-serial {display: flex;flex-direction: column;align-items: center;background-color: white;padding-right: 0.2em;padding-left: 0.2em;position: relative;}#sk-container-id-1 div.sk-item {position: relative;z-index: 1;}#sk-container-id-1 div.sk-parallel {display: flex;align-items: stretch;justify-content: center;background-color: white;position: relative;}#sk-container-id-1 div.sk-item::before, #sk-container-id-1 div.sk-parallel-item::before {content: \"\";position: absolute;border-left: 1px solid gray;box-sizing: border-box;top: 0;bottom: 0;left: 50%;z-index: -1;}#sk-container-id-1 div.sk-parallel-item {display: flex;flex-direction: column;z-index: 1;position: relative;background-color: white;}#sk-container-id-1 div.sk-parallel-item:first-child::after {align-self: flex-end;width: 50%;}#sk-container-id-1 div.sk-parallel-item:last-child::after {align-self: flex-start;width: 50%;}#sk-container-id-1 div.sk-parallel-item:only-child::after {width: 0;}#sk-container-id-1 div.sk-dashed-wrapped {border: 1px dashed gray;margin: 0 0.4em 0.5em 0.4em;box-sizing: border-box;padding-bottom: 0.4em;background-color: white;}#sk-container-id-1 div.sk-label label {font-family: monospace;font-weight: bold;display: inline-block;line-height: 1.2em;}#sk-container-id-1 div.sk-label-container {text-align: center;}#sk-container-id-1 div.sk-container {/* jupyter's `normalize.less` sets `[hidden] { display: none; }` but bootstrap.min.css set `[hidden] { display: none !important; }` so we also need the `!important` here to be able to override the default hidden behavior on the sphinx rendered scikit-learn.org. See: https://github.com/scikit-learn/scikit-learn/issues/21755 */display: inline-block !important;position: relative;}#sk-container-id-1 div.sk-text-repr-fallback {display: none;}</style><div id=\"sk-container-id-1\" class=\"sk-top-container\"><div class=\"sk-text-repr-fallback\"><pre>Pipeline(steps=[(&#x27;bow&#x27;,\n",
       "                 CountVectorizer(analyzer=&lt;function text_process at 0x000001ED85B985E0&gt;)),\n",
       "                (&#x27;tfidf&#x27;, TfidfTransformer()),\n",
       "                (&#x27;classifier&#x27;, MultinomialNB())])</pre><b>In a Jupyter environment, please rerun this cell to show the HTML representation or trust the notebook. <br />On GitHub, the HTML representation is unable to render, please try loading this page with nbviewer.org.</b></div><div class=\"sk-container\" hidden><div class=\"sk-item sk-dashed-wrapped\"><div class=\"sk-label-container\"><div class=\"sk-label sk-toggleable\"><input class=\"sk-toggleable__control sk-hidden--visually\" id=\"sk-estimator-id-1\" type=\"checkbox\" ><label for=\"sk-estimator-id-1\" class=\"sk-toggleable__label sk-toggleable__label-arrow\">Pipeline</label><div class=\"sk-toggleable__content\"><pre>Pipeline(steps=[(&#x27;bow&#x27;,\n",
       "                 CountVectorizer(analyzer=&lt;function text_process at 0x000001ED85B985E0&gt;)),\n",
       "                (&#x27;tfidf&#x27;, TfidfTransformer()),\n",
       "                (&#x27;classifier&#x27;, MultinomialNB())])</pre></div></div></div><div class=\"sk-serial\"><div class=\"sk-item\"><div class=\"sk-estimator sk-toggleable\"><input class=\"sk-toggleable__control sk-hidden--visually\" id=\"sk-estimator-id-2\" type=\"checkbox\" ><label for=\"sk-estimator-id-2\" class=\"sk-toggleable__label sk-toggleable__label-arrow\">CountVectorizer</label><div class=\"sk-toggleable__content\"><pre>CountVectorizer(analyzer=&lt;function text_process at 0x000001ED85B985E0&gt;)</pre></div></div></div><div class=\"sk-item\"><div class=\"sk-estimator sk-toggleable\"><input class=\"sk-toggleable__control sk-hidden--visually\" id=\"sk-estimator-id-3\" type=\"checkbox\" ><label for=\"sk-estimator-id-3\" class=\"sk-toggleable__label sk-toggleable__label-arrow\">TfidfTransformer</label><div class=\"sk-toggleable__content\"><pre>TfidfTransformer()</pre></div></div></div><div class=\"sk-item\"><div class=\"sk-estimator sk-toggleable\"><input class=\"sk-toggleable__control sk-hidden--visually\" id=\"sk-estimator-id-4\" type=\"checkbox\" ><label for=\"sk-estimator-id-4\" class=\"sk-toggleable__label sk-toggleable__label-arrow\">MultinomialNB</label><div class=\"sk-toggleable__content\"><pre>MultinomialNB()</pre></div></div></div></div></div></div></div>"
      ],
      "text/plain": [
       "Pipeline(steps=[('bow',\n",
       "                 CountVectorizer(analyzer=<function text_process at 0x000001ED85B985E0>)),\n",
       "                ('tfidf', TfidfTransformer()),\n",
       "                ('classifier', MultinomialNB())])"
      ]
     },
     "execution_count": 52,
     "metadata": {},
     "output_type": "execute_result"
    }
   ],
   "source": [
    "pipeline.fit(msg_train,label_train)"
   ]
  },
  {
   "cell_type": "code",
   "execution_count": 53,
   "id": "2231c429",
   "metadata": {},
   "outputs": [],
   "source": [
    "predictions = pipeline.predict(msg_test)"
   ]
  },
  {
   "cell_type": "code",
   "execution_count": 54,
   "id": "c6172ce3",
   "metadata": {},
   "outputs": [
    {
     "name": "stdout",
     "output_type": "stream",
     "text": [
      "              precision    recall  f1-score   support\n",
      "\n",
      "         ham       1.00      0.88      0.94       827\n",
      "        spam       0.68      1.00      0.81       208\n",
      "\n",
      "    accuracy                           0.90      1035\n",
      "   macro avg       0.84      0.94      0.87      1035\n",
      "weighted avg       0.93      0.90      0.91      1035\n",
      "\n"
     ]
    }
   ],
   "source": [
    "print(classification_report(predictions,label_test))"
   ]
  },
  {
   "cell_type": "code",
   "execution_count": null,
   "id": "d49ddc0a",
   "metadata": {},
   "outputs": [],
   "source": []
  }
 ],
 "metadata": {
  "kernelspec": {
   "display_name": "Python 3",
   "language": "python",
   "name": "python3"
  },
  "language_info": {
   "codemirror_mode": {
    "name": "ipython",
    "version": 3
   },
   "file_extension": ".py",
   "mimetype": "text/x-python",
   "name": "python",
   "nbconvert_exporter": "python",
   "pygments_lexer": "ipython3",
   "version": "3.9.13"
  }
 },
 "nbformat": 4,
 "nbformat_minor": 5
}
